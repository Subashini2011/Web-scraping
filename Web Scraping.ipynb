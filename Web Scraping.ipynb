{
 "cells": [
  {
   "cell_type": "code",
   "execution_count": 28,
   "id": "f4823389",
   "metadata": {},
   "outputs": [],
   "source": [
    "from bs4 import BeautifulSoup as s\n",
    "from urllib.request import urlopen as u\n",
    "import pandas as pd\n",
    "import numpy as np\n",
    "import matplotlib.pyplot as plt\n",
    "import seaborn as sns\n"
   ]
  },
  {
   "cell_type": "code",
   "execution_count": 29,
   "id": "ac732d28",
   "metadata": {},
   "outputs": [],
   "source": [
    "link=\"https://www.flipkart.com/search?q=laptop&otracker=search&otracker1=search&marketplace=FLIPKART&as-show=on&as=off&as-pos=1&as-type=HISTORY\"\n",
    "pagecontent=u(link)\n",
    "pagecode=pagecontent.read()\n"
   ]
  },
  {
   "cell_type": "code",
   "execution_count": 30,
   "id": "836521d6",
   "metadata": {},
   "outputs": [],
   "source": [
    "page_file=s(pagecode)\n"
   ]
  },
  {
   "cell_type": "code",
   "execution_count": 31,
   "id": "583946f9",
   "metadata": {},
   "outputs": [
    {
     "name": "stdout",
     "output_type": "stream",
     "text": [
      "HP Chromebook MediaTek Kompanio 500 - (4 GB/64 GB EMMC Storage/Chrome OS) 11A-NA0002MU Chromebook\n"
     ]
    }
   ],
   "source": [
    "modelname=page_file.find(\"div\",{\"class\":'_4rR01T'})\n",
    "print(modelname.text)"
   ]
  },
  {
   "cell_type": "code",
   "execution_count": 32,
   "id": "abed2e6a",
   "metadata": {},
   "outputs": [],
   "source": [
    "productname=[]\n",
    "modelname=page_file.findAll(\"div\",{\"class\":'_4rR01T'})\n",
    "for i in modelname:\n",
    "    p=i.text\n",
    "    productname.append(p)"
   ]
  },
  {
   "cell_type": "code",
   "execution_count": 33,
   "id": "45c2fc65",
   "metadata": {
    "scrolled": true
   },
   "outputs": [
    {
     "data": {
      "text/plain": [
       "['HP Chromebook MediaTek Kompanio 500 - (4 GB/64 GB EMMC Storage/Chrome OS) 11A-NA0002MU Chromebook',\n",
       " 'HP Chromebook MediaTek Kompanio 500 - (4 GB/64 GB EMMC Storage/Chrome OS) 11a-na0006MU Chromebook',\n",
       " 'ASUS VivoBook 15 (2021) Core i3 10th Gen - (8 GB/512 GB SSD/Windows 11 Home) X515JA-EJ362WS Thin and L...',\n",
       " 'HP Core i3 11th Gen - (8 GB/512 GB SSD/Windows 11 Home) 15s-du3563TU Thin and Light Laptop',\n",
       " 'RedmiBook 15 e-Learning Edition Core i3 11th Gen - (8 GB/512 GB SSD/Windows 10 Home) Thin and Light La...',\n",
       " 'HP Ryzen 3 Dual Core 3250U - (8 GB/256 GB SSD/Windows 10 Home) 15s-GY0501AU Thin and Light Laptop',\n",
       " 'HP Core i3 10th Gen - (8 GB/512 GB SSD/Windows 10 Home) 15s-DU1516TU Thin and Light Laptop',\n",
       " 'HP Chromebook MediaTek Kompanio 500 - (4 GB/64 GB EMMC Storage/Chrome OS) 11a-na0004MU Chromebook',\n",
       " 'ASUS Core i3 10th Gen - (4 GB + 32 GB Optane/512 GB SSD/Windows 10 Home) X515JA-EJ372TS Thin and Light...',\n",
       " 'ASUS VivoBook 15 (2021) Core i5 11th Gen - (8 GB/1 TB HDD/256 GB SSD/Windows 10 Home) X515EA-EJ502TS T...',\n",
       " 'ASUS VivoBook 15 (2021) Core i3 11th Gen - (4 GB/256 GB SSD/Windows 10 Home) X515EA-EJ302TS Thin and L...',\n",
       " 'MSI Creator Z16 Core i9 11th Gen - (16 GB/1 TB SSD/Windows 10 Home/6 GB Graphics/NVIDIA GeForce RTX 30...',\n",
       " 'DELL Vostro 3405 Ryzen 5 Quad Core 3450U - (8 GB/256 GB SSD/Windows 10 Home) Vostro 3405 Thin and Ligh...',\n",
       " 'DELL Vostro Core i3 10th Gen - (4 GB/256 GB SSD/Windows 10 Home) Vostro 3401 Thin and Light Laptop',\n",
       " 'RedmiBook 15 e-Learning Edition Core i3 11th Gen - (8 GB/256 GB SSD/Windows 10 Home) Thin and Light La...',\n",
       " 'HP Pavilion Gaming Ryzen 5 Hexa Core 4600H - (8 GB/1 TB HDD/Windows 10 Home/4 GB Graphics/NVIDIA GeFor...',\n",
       " 'ASUS Ryzen 3 Dual Core 3250U 3rd Gen - (8 GB/256 GB SSD/Windows 10 Home) M515DA-BQ322TS Thin and Light...',\n",
       " 'ASUS VivoBook Ultra 14 Core i3 11th Gen - (8 GB/512 GB SSD/Windows 10 Home) X413EA-EB323TS Thin and Li...',\n",
       " 'ASUS ROG Strix Ryzen 7 Octa Core 4800H - (8 GB/512 GB SSD/Windows 10 Home/4 GB Graphics/NVIDIA GeForce...',\n",
       " 'MSI Bravo 15 Ryzen 5 Hexa Core 4600H - (8 GB/512 GB SSD/Windows 10 Home/4 GB Graphics/AMD Radeon RX 55...',\n",
       " 'HP Core i3 11th Gen - (8 GB/512 GB SSD/Windows 11 Home) 15s-du3564TU Thin and Light Laptop',\n",
       " 'RedmiBook Pro Core i5 11th Gen - (8 GB/512 GB SSD/Windows 10 Home) Thin and Light Laptop',\n",
       " 'Lenovo IdeaPad 3 Core i3 10th Gen - (8 GB/256 GB SSD/Windows 11 Home) 15IML05 Thin and Light Laptop',\n",
       " 'ASUS ROG Strix G15 (2021) Ryzen 7 Octa Core 4800H - (8 GB/512 GB SSD/Windows 10 Home/4 GB Graphics/NVI...']"
      ]
     },
     "execution_count": 33,
     "metadata": {},
     "output_type": "execute_result"
    }
   ],
   "source": [
    "productname"
   ]
  },
  {
   "cell_type": "code",
   "execution_count": 34,
   "id": "5a759b35",
   "metadata": {},
   "outputs": [
    {
     "name": "stdout",
     "output_type": "stream",
     "text": [
      "7% off\n"
     ]
    }
   ],
   "source": [
    "modelname=page_file.find(\"div\",{\"class\":'_3Ay6Sb'})\n",
    "print(modelname.text)"
   ]
  },
  {
   "cell_type": "code",
   "execution_count": null,
   "id": "e12f0ae6",
   "metadata": {},
   "outputs": [],
   "source": []
  },
  {
   "cell_type": "code",
   "execution_count": 35,
   "id": "436ec1cf",
   "metadata": {},
   "outputs": [
    {
     "data": {
      "text/plain": [
       "['7% off',\n",
       " '9% off',\n",
       " '17% off',\n",
       " '15% off',\n",
       " '23% off',\n",
       " '15% off',\n",
       " '16% off',\n",
       " '9% off',\n",
       " '20% off',\n",
       " '22% off',\n",
       " '24% off',\n",
       " '4% off',\n",
       " '24% off',\n",
       " '6% off',\n",
       " '23% off',\n",
       " '12% off',\n",
       " '21% off',\n",
       " '21% off',\n",
       " '8% off',\n",
       " '11% off',\n",
       " '16% off',\n",
       " '18% off',\n",
       " '15% off',\n",
       " '15% off',\n",
       " '8% off',\n",
       " '22% off',\n",
       " '12% off',\n",
       " '24% off']"
      ]
     },
     "execution_count": 35,
     "metadata": {},
     "output_type": "execute_result"
    }
   ],
   "source": [
    "offers=[]\n",
    "modelname=page_file.findAll(\"div\",{\"class\":'_3Ay6Sb'})\n",
    "for i in modelname:\n",
    "    p=i.text\n",
    "    offers.append(p)\n",
    "offers"
   ]
  },
  {
   "cell_type": "code",
   "execution_count": 36,
   "id": "03e23a7b",
   "metadata": {},
   "outputs": [
    {
     "name": "stdout",
     "output_type": "stream",
     "text": [
      "₹22,990\n"
     ]
    }
   ],
   "source": [
    "modelname=page_file.find(\"div\",{\"class\":'_30jeq3'})\n",
    "print(modelname.text)"
   ]
  },
  {
   "cell_type": "code",
   "execution_count": 37,
   "id": "4ccb03be",
   "metadata": {},
   "outputs": [
    {
     "data": {
      "text/plain": [
       "['₹22,990',\n",
       " '₹22,490',\n",
       " '₹41,990',\n",
       " '₹41,990',\n",
       " '₹42,999',\n",
       " '₹39,990',\n",
       " '₹41,990',\n",
       " '₹22,490',\n",
       " '₹39,990',\n",
       " '₹54,990',\n",
       " '₹37,990',\n",
       " '₹2,13,414',\n",
       " '₹44,900',\n",
       " '₹37,995',\n",
       " '₹39,999',\n",
       " '₹59,990',\n",
       " '₹36,990',\n",
       " '₹45,990',\n",
       " '₹81,990',\n",
       " '₹60,990',\n",
       " '₹44,490',\n",
       " '₹49,999',\n",
       " '₹37,990',\n",
       " '₹76,990',\n",
       " '₹76,990',\n",
       " '₹60,990',\n",
       " '₹54,990',\n",
       " '₹59,990',\n",
       " '₹37,990']"
      ]
     },
     "execution_count": 37,
     "metadata": {},
     "output_type": "execute_result"
    }
   ],
   "source": [
    "price=[]\n",
    "modelname=page_file.findAll(\"div\",{\"class\":'_30jeq3'})\n",
    "for i in modelname:\n",
    "    p=i.text\n",
    "    price.append(p)\n",
    "price"
   ]
  },
  {
   "cell_type": "code",
   "execution_count": 38,
   "id": "f9040fc8",
   "metadata": {},
   "outputs": [
    {
     "data": {
      "text/plain": [
       "['3.8',\n",
       " '3.8',\n",
       " '4.4',\n",
       " '4.2',\n",
       " '4.3',\n",
       " '4.3',\n",
       " '4.3',\n",
       " '3.8',\n",
       " '4.3',\n",
       " '4.3',\n",
       " '4.3',\n",
       " '4.2',\n",
       " '4.3',\n",
       " '4.3',\n",
       " '4.2',\n",
       " '4.3',\n",
       " '4.4',\n",
       " '4.6',\n",
       " '4.5',\n",
       " '4.4',\n",
       " '4.2',\n",
       " '4.3',\n",
       " '4.5']"
      ]
     },
     "execution_count": 38,
     "metadata": {},
     "output_type": "execute_result"
    }
   ],
   "source": [
    "ratings=[]\n",
    "modelname=page_file.findAll(\"span\",{\"class\":'_1lRcqv'})\n",
    "for i in modelname:\n",
    "    p=i.text\n",
    "    ratings.append(p)\n",
    "ratings"
   ]
  },
  {
   "cell_type": "code",
   "execution_count": 39,
   "id": "b120ed42",
   "metadata": {},
   "outputs": [
    {
     "data": {
      "text/plain": [
       "24"
      ]
     },
     "execution_count": 39,
     "metadata": {},
     "output_type": "execute_result"
    }
   ],
   "source": [
    "len(productname)"
   ]
  },
  {
   "cell_type": "code",
   "execution_count": 40,
   "id": "4fe13b37",
   "metadata": {},
   "outputs": [],
   "source": [
    "del productname[9:24]"
   ]
  },
  {
   "cell_type": "code",
   "execution_count": 41,
   "id": "3923cb4a",
   "metadata": {
    "scrolled": true
   },
   "outputs": [
    {
     "data": {
      "text/plain": [
       "['HP Chromebook MediaTek Kompanio 500 - (4 GB/64 GB EMMC Storage/Chrome OS) 11A-NA0002MU Chromebook',\n",
       " 'HP Chromebook MediaTek Kompanio 500 - (4 GB/64 GB EMMC Storage/Chrome OS) 11a-na0006MU Chromebook',\n",
       " 'ASUS VivoBook 15 (2021) Core i3 10th Gen - (8 GB/512 GB SSD/Windows 11 Home) X515JA-EJ362WS Thin and L...',\n",
       " 'HP Core i3 11th Gen - (8 GB/512 GB SSD/Windows 11 Home) 15s-du3563TU Thin and Light Laptop',\n",
       " 'RedmiBook 15 e-Learning Edition Core i3 11th Gen - (8 GB/512 GB SSD/Windows 10 Home) Thin and Light La...',\n",
       " 'HP Ryzen 3 Dual Core 3250U - (8 GB/256 GB SSD/Windows 10 Home) 15s-GY0501AU Thin and Light Laptop',\n",
       " 'HP Core i3 10th Gen - (8 GB/512 GB SSD/Windows 10 Home) 15s-DU1516TU Thin and Light Laptop',\n",
       " 'HP Chromebook MediaTek Kompanio 500 - (4 GB/64 GB EMMC Storage/Chrome OS) 11a-na0004MU Chromebook',\n",
       " 'ASUS Core i3 10th Gen - (4 GB + 32 GB Optane/512 GB SSD/Windows 10 Home) X515JA-EJ372TS Thin and Light...']"
      ]
     },
     "execution_count": 41,
     "metadata": {},
     "output_type": "execute_result"
    }
   ],
   "source": [
    "productname"
   ]
  },
  {
   "cell_type": "code",
   "execution_count": 42,
   "id": "96778d83",
   "metadata": {},
   "outputs": [
    {
     "data": {
      "text/plain": [
       "23"
      ]
     },
     "execution_count": 42,
     "metadata": {},
     "output_type": "execute_result"
    }
   ],
   "source": [
    "len(ratings)"
   ]
  },
  {
   "cell_type": "code",
   "execution_count": 43,
   "id": "c575edad",
   "metadata": {},
   "outputs": [],
   "source": [
    "del ratings[9:23]"
   ]
  },
  {
   "cell_type": "code",
   "execution_count": 44,
   "id": "98498340",
   "metadata": {},
   "outputs": [
    {
     "data": {
      "text/plain": [
       "['3.8', '3.8', '4.4', '4.2', '4.3', '4.3', '4.3', '3.8', '4.3']"
      ]
     },
     "execution_count": 44,
     "metadata": {},
     "output_type": "execute_result"
    }
   ],
   "source": [
    "ratings"
   ]
  },
  {
   "cell_type": "code",
   "execution_count": 45,
   "id": "166b4131",
   "metadata": {},
   "outputs": [
    {
     "data": {
      "text/plain": [
       "29"
      ]
     },
     "execution_count": 45,
     "metadata": {},
     "output_type": "execute_result"
    }
   ],
   "source": [
    "len(price)"
   ]
  },
  {
   "cell_type": "code",
   "execution_count": 46,
   "id": "f8a5030c",
   "metadata": {},
   "outputs": [],
   "source": [
    "del price[9:29]"
   ]
  },
  {
   "cell_type": "code",
   "execution_count": 47,
   "id": "1d5a0416",
   "metadata": {},
   "outputs": [
    {
     "data": {
      "text/plain": [
       "['₹22,990',\n",
       " '₹22,490',\n",
       " '₹41,990',\n",
       " '₹41,990',\n",
       " '₹42,999',\n",
       " '₹39,990',\n",
       " '₹41,990',\n",
       " '₹22,490',\n",
       " '₹39,990']"
      ]
     },
     "execution_count": 47,
     "metadata": {},
     "output_type": "execute_result"
    }
   ],
   "source": [
    "price"
   ]
  },
  {
   "cell_type": "code",
   "execution_count": 48,
   "id": "9f56d4b8",
   "metadata": {},
   "outputs": [
    {
     "data": {
      "text/plain": [
       "28"
      ]
     },
     "execution_count": 48,
     "metadata": {},
     "output_type": "execute_result"
    }
   ],
   "source": [
    "len(offers)"
   ]
  },
  {
   "cell_type": "code",
   "execution_count": 49,
   "id": "02535dbc",
   "metadata": {},
   "outputs": [],
   "source": [
    "del offers[9:28]"
   ]
  },
  {
   "cell_type": "code",
   "execution_count": 50,
   "id": "62d3fbc0",
   "metadata": {},
   "outputs": [
    {
     "data": {
      "text/plain": [
       "['7% off',\n",
       " '9% off',\n",
       " '17% off',\n",
       " '15% off',\n",
       " '23% off',\n",
       " '15% off',\n",
       " '16% off',\n",
       " '9% off',\n",
       " '20% off']"
      ]
     },
     "execution_count": 50,
     "metadata": {},
     "output_type": "execute_result"
    }
   ],
   "source": [
    "offers"
   ]
  },
  {
   "cell_type": "code",
   "execution_count": 51,
   "id": "27ab4f56",
   "metadata": {},
   "outputs": [
    {
     "data": {
      "text/html": [
       "<div>\n",
       "<style scoped>\n",
       "    .dataframe tbody tr th:only-of-type {\n",
       "        vertical-align: middle;\n",
       "    }\n",
       "\n",
       "    .dataframe tbody tr th {\n",
       "        vertical-align: top;\n",
       "    }\n",
       "\n",
       "    .dataframe thead th {\n",
       "        text-align: right;\n",
       "    }\n",
       "</style>\n",
       "<table border=\"1\" class=\"dataframe\">\n",
       "  <thead>\n",
       "    <tr style=\"text-align: right;\">\n",
       "      <th></th>\n",
       "      <th>productname1</th>\n",
       "      <th>ratings1</th>\n",
       "      <th>price1</th>\n",
       "      <th>offers1</th>\n",
       "    </tr>\n",
       "  </thead>\n",
       "  <tbody>\n",
       "    <tr>\n",
       "      <th>0</th>\n",
       "      <td>HP Chromebook MediaTek Kompanio 500 - (4 GB/64...</td>\n",
       "      <td>3.8</td>\n",
       "      <td>₹22,990</td>\n",
       "      <td>7% off</td>\n",
       "    </tr>\n",
       "    <tr>\n",
       "      <th>1</th>\n",
       "      <td>HP Chromebook MediaTek Kompanio 500 - (4 GB/64...</td>\n",
       "      <td>3.8</td>\n",
       "      <td>₹22,490</td>\n",
       "      <td>9% off</td>\n",
       "    </tr>\n",
       "    <tr>\n",
       "      <th>2</th>\n",
       "      <td>ASUS VivoBook 15 (2021) Core i3 10th Gen - (8 ...</td>\n",
       "      <td>4.4</td>\n",
       "      <td>₹41,990</td>\n",
       "      <td>17% off</td>\n",
       "    </tr>\n",
       "    <tr>\n",
       "      <th>3</th>\n",
       "      <td>HP Core i3 11th Gen - (8 GB/512 GB SSD/Windows...</td>\n",
       "      <td>4.2</td>\n",
       "      <td>₹41,990</td>\n",
       "      <td>15% off</td>\n",
       "    </tr>\n",
       "    <tr>\n",
       "      <th>4</th>\n",
       "      <td>RedmiBook 15 e-Learning Edition Core i3 11th G...</td>\n",
       "      <td>4.3</td>\n",
       "      <td>₹42,999</td>\n",
       "      <td>23% off</td>\n",
       "    </tr>\n",
       "    <tr>\n",
       "      <th>5</th>\n",
       "      <td>HP Ryzen 3 Dual Core 3250U - (8 GB/256 GB SSD/...</td>\n",
       "      <td>4.3</td>\n",
       "      <td>₹39,990</td>\n",
       "      <td>15% off</td>\n",
       "    </tr>\n",
       "    <tr>\n",
       "      <th>6</th>\n",
       "      <td>HP Core i3 10th Gen - (8 GB/512 GB SSD/Windows...</td>\n",
       "      <td>4.3</td>\n",
       "      <td>₹41,990</td>\n",
       "      <td>16% off</td>\n",
       "    </tr>\n",
       "    <tr>\n",
       "      <th>7</th>\n",
       "      <td>HP Chromebook MediaTek Kompanio 500 - (4 GB/64...</td>\n",
       "      <td>3.8</td>\n",
       "      <td>₹22,490</td>\n",
       "      <td>9% off</td>\n",
       "    </tr>\n",
       "    <tr>\n",
       "      <th>8</th>\n",
       "      <td>ASUS Core i3 10th Gen - (4 GB + 32 GB Optane/5...</td>\n",
       "      <td>4.3</td>\n",
       "      <td>₹39,990</td>\n",
       "      <td>20% off</td>\n",
       "    </tr>\n",
       "  </tbody>\n",
       "</table>\n",
       "</div>"
      ],
      "text/plain": [
       "                                        productname1 ratings1   price1  \\\n",
       "0  HP Chromebook MediaTek Kompanio 500 - (4 GB/64...      3.8  ₹22,990   \n",
       "1  HP Chromebook MediaTek Kompanio 500 - (4 GB/64...      3.8  ₹22,490   \n",
       "2  ASUS VivoBook 15 (2021) Core i3 10th Gen - (8 ...      4.4  ₹41,990   \n",
       "3  HP Core i3 11th Gen - (8 GB/512 GB SSD/Windows...      4.2  ₹41,990   \n",
       "4  RedmiBook 15 e-Learning Edition Core i3 11th G...      4.3  ₹42,999   \n",
       "5  HP Ryzen 3 Dual Core 3250U - (8 GB/256 GB SSD/...      4.3  ₹39,990   \n",
       "6  HP Core i3 10th Gen - (8 GB/512 GB SSD/Windows...      4.3  ₹41,990   \n",
       "7  HP Chromebook MediaTek Kompanio 500 - (4 GB/64...      3.8  ₹22,490   \n",
       "8  ASUS Core i3 10th Gen - (4 GB + 32 GB Optane/5...      4.3  ₹39,990   \n",
       "\n",
       "   offers1  \n",
       "0   7% off  \n",
       "1   9% off  \n",
       "2  17% off  \n",
       "3  15% off  \n",
       "4  23% off  \n",
       "5  15% off  \n",
       "6  16% off  \n",
       "7   9% off  \n",
       "8  20% off  "
      ]
     },
     "execution_count": 51,
     "metadata": {},
     "output_type": "execute_result"
    }
   ],
   "source": [
    "d={'productname1':productname,'ratings1':ratings,'price1':price,'offers1':offers}\n",
    "laptop=pd.DataFrame(d)\n",
    "laptop"
   ]
  },
  {
   "cell_type": "code",
   "execution_count": 52,
   "id": "82f24311",
   "metadata": {},
   "outputs": [
    {
     "data": {
      "text/html": [
       "<div>\n",
       "<style scoped>\n",
       "    .dataframe tbody tr th:only-of-type {\n",
       "        vertical-align: middle;\n",
       "    }\n",
       "\n",
       "    .dataframe tbody tr th {\n",
       "        vertical-align: top;\n",
       "    }\n",
       "\n",
       "    .dataframe thead th {\n",
       "        text-align: right;\n",
       "    }\n",
       "</style>\n",
       "<table border=\"1\" class=\"dataframe\">\n",
       "  <thead>\n",
       "    <tr style=\"text-align: right;\">\n",
       "      <th></th>\n",
       "      <th>productname1</th>\n",
       "      <th>ratings1</th>\n",
       "      <th>price1</th>\n",
       "      <th>offers1</th>\n",
       "    </tr>\n",
       "  </thead>\n",
       "  <tbody>\n",
       "    <tr>\n",
       "      <th>0</th>\n",
       "      <td>HP Chromebook MediaTek Kompanio 500 - (4 GB/64...</td>\n",
       "      <td>3.8</td>\n",
       "      <td>₹22,990</td>\n",
       "      <td>7% off</td>\n",
       "    </tr>\n",
       "    <tr>\n",
       "      <th>1</th>\n",
       "      <td>HP Chromebook MediaTek Kompanio 500 - (4 GB/64...</td>\n",
       "      <td>3.8</td>\n",
       "      <td>₹22,490</td>\n",
       "      <td>9% off</td>\n",
       "    </tr>\n",
       "    <tr>\n",
       "      <th>2</th>\n",
       "      <td>ASUS VivoBook 15 (2021) Core i3 10th Gen - (8 ...</td>\n",
       "      <td>4.4</td>\n",
       "      <td>₹41,990</td>\n",
       "      <td>17% off</td>\n",
       "    </tr>\n",
       "    <tr>\n",
       "      <th>3</th>\n",
       "      <td>HP Core i3 11th Gen - (8 GB/512 GB SSD/Windows...</td>\n",
       "      <td>4.2</td>\n",
       "      <td>₹41,990</td>\n",
       "      <td>15% off</td>\n",
       "    </tr>\n",
       "    <tr>\n",
       "      <th>4</th>\n",
       "      <td>RedmiBook 15 e-Learning Edition Core i3 11th G...</td>\n",
       "      <td>4.3</td>\n",
       "      <td>₹42,999</td>\n",
       "      <td>23% off</td>\n",
       "    </tr>\n",
       "    <tr>\n",
       "      <th>5</th>\n",
       "      <td>HP Ryzen 3 Dual Core 3250U - (8 GB/256 GB SSD/...</td>\n",
       "      <td>4.3</td>\n",
       "      <td>₹39,990</td>\n",
       "      <td>15% off</td>\n",
       "    </tr>\n",
       "    <tr>\n",
       "      <th>6</th>\n",
       "      <td>HP Core i3 10th Gen - (8 GB/512 GB SSD/Windows...</td>\n",
       "      <td>4.3</td>\n",
       "      <td>₹41,990</td>\n",
       "      <td>16% off</td>\n",
       "    </tr>\n",
       "    <tr>\n",
       "      <th>7</th>\n",
       "      <td>HP Chromebook MediaTek Kompanio 500 - (4 GB/64...</td>\n",
       "      <td>3.8</td>\n",
       "      <td>₹22,490</td>\n",
       "      <td>9% off</td>\n",
       "    </tr>\n",
       "    <tr>\n",
       "      <th>8</th>\n",
       "      <td>ASUS Core i3 10th Gen - (4 GB + 32 GB Optane/5...</td>\n",
       "      <td>4.3</td>\n",
       "      <td>₹39,990</td>\n",
       "      <td>20% off</td>\n",
       "    </tr>\n",
       "  </tbody>\n",
       "</table>\n",
       "</div>"
      ],
      "text/plain": [
       "                                        productname1 ratings1   price1  \\\n",
       "0  HP Chromebook MediaTek Kompanio 500 - (4 GB/64...      3.8  ₹22,990   \n",
       "1  HP Chromebook MediaTek Kompanio 500 - (4 GB/64...      3.8  ₹22,490   \n",
       "2  ASUS VivoBook 15 (2021) Core i3 10th Gen - (8 ...      4.4  ₹41,990   \n",
       "3  HP Core i3 11th Gen - (8 GB/512 GB SSD/Windows...      4.2  ₹41,990   \n",
       "4  RedmiBook 15 e-Learning Edition Core i3 11th G...      4.3  ₹42,999   \n",
       "5  HP Ryzen 3 Dual Core 3250U - (8 GB/256 GB SSD/...      4.3  ₹39,990   \n",
       "6  HP Core i3 10th Gen - (8 GB/512 GB SSD/Windows...      4.3  ₹41,990   \n",
       "7  HP Chromebook MediaTek Kompanio 500 - (4 GB/64...      3.8  ₹22,490   \n",
       "8  ASUS Core i3 10th Gen - (4 GB + 32 GB Optane/5...      4.3  ₹39,990   \n",
       "\n",
       "   offers1  \n",
       "0   7% off  \n",
       "1   9% off  \n",
       "2  17% off  \n",
       "3  15% off  \n",
       "4  23% off  \n",
       "5  15% off  \n",
       "6  16% off  \n",
       "7   9% off  \n",
       "8  20% off  "
      ]
     },
     "execution_count": 52,
     "metadata": {},
     "output_type": "execute_result"
    }
   ],
   "source": [
    "laptop"
   ]
  },
  {
   "cell_type": "code",
   "execution_count": 53,
   "id": "687b5094",
   "metadata": {},
   "outputs": [
    {
     "data": {
      "text/html": [
       "<div>\n",
       "<style scoped>\n",
       "    .dataframe tbody tr th:only-of-type {\n",
       "        vertical-align: middle;\n",
       "    }\n",
       "\n",
       "    .dataframe tbody tr th {\n",
       "        vertical-align: top;\n",
       "    }\n",
       "\n",
       "    .dataframe thead th {\n",
       "        text-align: right;\n",
       "    }\n",
       "</style>\n",
       "<table border=\"1\" class=\"dataframe\">\n",
       "  <thead>\n",
       "    <tr style=\"text-align: right;\">\n",
       "      <th></th>\n",
       "      <th>productname1</th>\n",
       "      <th>ratings1</th>\n",
       "      <th>price1</th>\n",
       "      <th>offers1</th>\n",
       "    </tr>\n",
       "  </thead>\n",
       "  <tbody>\n",
       "    <tr>\n",
       "      <th>0</th>\n",
       "      <td>HP Chromebook MediaTek Kompanio 500 - (4 GB/64...</td>\n",
       "      <td>3.8</td>\n",
       "      <td>₹22,990</td>\n",
       "      <td>7% off</td>\n",
       "    </tr>\n",
       "    <tr>\n",
       "      <th>1</th>\n",
       "      <td>HP Chromebook MediaTek Kompanio 500 - (4 GB/64...</td>\n",
       "      <td>3.8</td>\n",
       "      <td>₹22,490</td>\n",
       "      <td>9% off</td>\n",
       "    </tr>\n",
       "    <tr>\n",
       "      <th>2</th>\n",
       "      <td>ASUS VivoBook 15 (2021) Core i3 10th Gen - (8 ...</td>\n",
       "      <td>4.4</td>\n",
       "      <td>₹41,990</td>\n",
       "      <td>17% off</td>\n",
       "    </tr>\n",
       "    <tr>\n",
       "      <th>3</th>\n",
       "      <td>HP Core i3 11th Gen - (8 GB/512 GB SSD/Windows...</td>\n",
       "      <td>4.2</td>\n",
       "      <td>₹41,990</td>\n",
       "      <td>15% off</td>\n",
       "    </tr>\n",
       "    <tr>\n",
       "      <th>4</th>\n",
       "      <td>RedmiBook 15 e-Learning Edition Core i3 11th G...</td>\n",
       "      <td>4.3</td>\n",
       "      <td>₹42,999</td>\n",
       "      <td>23% off</td>\n",
       "    </tr>\n",
       "    <tr>\n",
       "      <th>5</th>\n",
       "      <td>HP Ryzen 3 Dual Core 3250U - (8 GB/256 GB SSD/...</td>\n",
       "      <td>4.3</td>\n",
       "      <td>₹39,990</td>\n",
       "      <td>15% off</td>\n",
       "    </tr>\n",
       "    <tr>\n",
       "      <th>6</th>\n",
       "      <td>HP Core i3 10th Gen - (8 GB/512 GB SSD/Windows...</td>\n",
       "      <td>4.3</td>\n",
       "      <td>₹41,990</td>\n",
       "      <td>16% off</td>\n",
       "    </tr>\n",
       "    <tr>\n",
       "      <th>7</th>\n",
       "      <td>HP Chromebook MediaTek Kompanio 500 - (4 GB/64...</td>\n",
       "      <td>3.8</td>\n",
       "      <td>₹22,490</td>\n",
       "      <td>9% off</td>\n",
       "    </tr>\n",
       "    <tr>\n",
       "      <th>8</th>\n",
       "      <td>ASUS Core i3 10th Gen - (4 GB + 32 GB Optane/5...</td>\n",
       "      <td>4.3</td>\n",
       "      <td>₹39,990</td>\n",
       "      <td>20% off</td>\n",
       "    </tr>\n",
       "  </tbody>\n",
       "</table>\n",
       "</div>"
      ],
      "text/plain": [
       "                                        productname1 ratings1   price1  \\\n",
       "0  HP Chromebook MediaTek Kompanio 500 - (4 GB/64...      3.8  ₹22,990   \n",
       "1  HP Chromebook MediaTek Kompanio 500 - (4 GB/64...      3.8  ₹22,490   \n",
       "2  ASUS VivoBook 15 (2021) Core i3 10th Gen - (8 ...      4.4  ₹41,990   \n",
       "3  HP Core i3 11th Gen - (8 GB/512 GB SSD/Windows...      4.2  ₹41,990   \n",
       "4  RedmiBook 15 e-Learning Edition Core i3 11th G...      4.3  ₹42,999   \n",
       "5  HP Ryzen 3 Dual Core 3250U - (8 GB/256 GB SSD/...      4.3  ₹39,990   \n",
       "6  HP Core i3 10th Gen - (8 GB/512 GB SSD/Windows...      4.3  ₹41,990   \n",
       "7  HP Chromebook MediaTek Kompanio 500 - (4 GB/64...      3.8  ₹22,490   \n",
       "8  ASUS Core i3 10th Gen - (4 GB + 32 GB Optane/5...      4.3  ₹39,990   \n",
       "\n",
       "   offers1  \n",
       "0   7% off  \n",
       "1   9% off  \n",
       "2  17% off  \n",
       "3  15% off  \n",
       "4  23% off  \n",
       "5  15% off  \n",
       "6  16% off  \n",
       "7   9% off  \n",
       "8  20% off  "
      ]
     },
     "execution_count": 53,
     "metadata": {},
     "output_type": "execute_result"
    }
   ],
   "source": [
    "laptop"
   ]
  },
  {
   "cell_type": "code",
   "execution_count": 54,
   "id": "a1588523",
   "metadata": {},
   "outputs": [
    {
     "data": {
      "text/plain": [
       "productname1    object\n",
       "ratings1        object\n",
       "price1          object\n",
       "offers1         object\n",
       "dtype: object"
      ]
     },
     "execution_count": 54,
     "metadata": {},
     "output_type": "execute_result"
    }
   ],
   "source": [
    "laptop.dtypes"
   ]
  },
  {
   "cell_type": "code",
   "execution_count": 55,
   "id": "2057897d",
   "metadata": {},
   "outputs": [],
   "source": [
    "laptop.to_csv(\"source.csv\")"
   ]
  },
  {
   "cell_type": "code",
   "execution_count": 56,
   "id": "905b9db7",
   "metadata": {},
   "outputs": [
    {
     "data": {
      "text/html": [
       "<div>\n",
       "<style scoped>\n",
       "    .dataframe tbody tr th:only-of-type {\n",
       "        vertical-align: middle;\n",
       "    }\n",
       "\n",
       "    .dataframe tbody tr th {\n",
       "        vertical-align: top;\n",
       "    }\n",
       "\n",
       "    .dataframe thead th {\n",
       "        text-align: right;\n",
       "    }\n",
       "</style>\n",
       "<table border=\"1\" class=\"dataframe\">\n",
       "  <thead>\n",
       "    <tr style=\"text-align: right;\">\n",
       "      <th></th>\n",
       "      <th>Unnamed: 0</th>\n",
       "      <th>productname1</th>\n",
       "      <th>ratings1</th>\n",
       "      <th>price1</th>\n",
       "      <th>offers1</th>\n",
       "    </tr>\n",
       "  </thead>\n",
       "  <tbody>\n",
       "    <tr>\n",
       "      <th>0</th>\n",
       "      <td>0</td>\n",
       "      <td>HP Chromebook MediaTek Kompanio 500 - (4 GB/64...</td>\n",
       "      <td>3.8</td>\n",
       "      <td>₹22,990</td>\n",
       "      <td>7% off</td>\n",
       "    </tr>\n",
       "    <tr>\n",
       "      <th>1</th>\n",
       "      <td>1</td>\n",
       "      <td>HP Chromebook MediaTek Kompanio 500 - (4 GB/64...</td>\n",
       "      <td>3.8</td>\n",
       "      <td>₹22,490</td>\n",
       "      <td>9% off</td>\n",
       "    </tr>\n",
       "    <tr>\n",
       "      <th>2</th>\n",
       "      <td>2</td>\n",
       "      <td>ASUS VivoBook 15 (2021) Core i3 10th Gen - (8 ...</td>\n",
       "      <td>4.4</td>\n",
       "      <td>₹41,990</td>\n",
       "      <td>17% off</td>\n",
       "    </tr>\n",
       "    <tr>\n",
       "      <th>3</th>\n",
       "      <td>3</td>\n",
       "      <td>HP Core i3 11th Gen - (8 GB/512 GB SSD/Windows...</td>\n",
       "      <td>4.2</td>\n",
       "      <td>₹41,990</td>\n",
       "      <td>15% off</td>\n",
       "    </tr>\n",
       "    <tr>\n",
       "      <th>4</th>\n",
       "      <td>4</td>\n",
       "      <td>RedmiBook 15 e-Learning Edition Core i3 11th G...</td>\n",
       "      <td>4.3</td>\n",
       "      <td>₹42,999</td>\n",
       "      <td>23% off</td>\n",
       "    </tr>\n",
       "    <tr>\n",
       "      <th>5</th>\n",
       "      <td>5</td>\n",
       "      <td>HP Ryzen 3 Dual Core 3250U - (8 GB/256 GB SSD/...</td>\n",
       "      <td>4.3</td>\n",
       "      <td>₹39,990</td>\n",
       "      <td>15% off</td>\n",
       "    </tr>\n",
       "    <tr>\n",
       "      <th>6</th>\n",
       "      <td>6</td>\n",
       "      <td>HP Core i3 10th Gen - (8 GB/512 GB SSD/Windows...</td>\n",
       "      <td>4.3</td>\n",
       "      <td>₹41,990</td>\n",
       "      <td>16% off</td>\n",
       "    </tr>\n",
       "    <tr>\n",
       "      <th>7</th>\n",
       "      <td>7</td>\n",
       "      <td>HP Chromebook MediaTek Kompanio 500 - (4 GB/64...</td>\n",
       "      <td>3.8</td>\n",
       "      <td>₹22,490</td>\n",
       "      <td>9% off</td>\n",
       "    </tr>\n",
       "    <tr>\n",
       "      <th>8</th>\n",
       "      <td>8</td>\n",
       "      <td>ASUS Core i3 10th Gen - (4 GB + 32 GB Optane/5...</td>\n",
       "      <td>4.3</td>\n",
       "      <td>₹39,990</td>\n",
       "      <td>20% off</td>\n",
       "    </tr>\n",
       "  </tbody>\n",
       "</table>\n",
       "</div>"
      ],
      "text/plain": [
       "   Unnamed: 0                                       productname1  ratings1  \\\n",
       "0           0  HP Chromebook MediaTek Kompanio 500 - (4 GB/64...       3.8   \n",
       "1           1  HP Chromebook MediaTek Kompanio 500 - (4 GB/64...       3.8   \n",
       "2           2  ASUS VivoBook 15 (2021) Core i3 10th Gen - (8 ...       4.4   \n",
       "3           3  HP Core i3 11th Gen - (8 GB/512 GB SSD/Windows...       4.2   \n",
       "4           4  RedmiBook 15 e-Learning Edition Core i3 11th G...       4.3   \n",
       "5           5  HP Ryzen 3 Dual Core 3250U - (8 GB/256 GB SSD/...       4.3   \n",
       "6           6  HP Core i3 10th Gen - (8 GB/512 GB SSD/Windows...       4.3   \n",
       "7           7  HP Chromebook MediaTek Kompanio 500 - (4 GB/64...       3.8   \n",
       "8           8  ASUS Core i3 10th Gen - (4 GB + 32 GB Optane/5...       4.3   \n",
       "\n",
       "    price1  offers1  \n",
       "0  ₹22,990   7% off  \n",
       "1  ₹22,490   9% off  \n",
       "2  ₹41,990  17% off  \n",
       "3  ₹41,990  15% off  \n",
       "4  ₹42,999  23% off  \n",
       "5  ₹39,990  15% off  \n",
       "6  ₹41,990  16% off  \n",
       "7  ₹22,490   9% off  \n",
       "8  ₹39,990  20% off  "
      ]
     },
     "execution_count": 56,
     "metadata": {},
     "output_type": "execute_result"
    }
   ],
   "source": [
    "data=pd.read_csv(\"source.csv\")\n",
    "data\n"
   ]
  },
  {
   "cell_type": "code",
   "execution_count": 57,
   "id": "7ef392c4",
   "metadata": {},
   "outputs": [],
   "source": [
    "laptop['ratings1']=laptop['ratings1'].astype(float)   \n"
   ]
  },
  {
   "cell_type": "code",
   "execution_count": 58,
   "id": "bf8a357d",
   "metadata": {},
   "outputs": [
    {
     "data": {
      "text/plain": [
       "productname1     object\n",
       "ratings1        float64\n",
       "price1           object\n",
       "offers1          object\n",
       "dtype: object"
      ]
     },
     "execution_count": 58,
     "metadata": {},
     "output_type": "execute_result"
    }
   ],
   "source": [
    "laptop.dtypes"
   ]
  },
  {
   "cell_type": "code",
   "execution_count": 59,
   "id": "17de91c9",
   "metadata": {},
   "outputs": [
    {
     "data": {
      "text/html": [
       "<div>\n",
       "<style scoped>\n",
       "    .dataframe tbody tr th:only-of-type {\n",
       "        vertical-align: middle;\n",
       "    }\n",
       "\n",
       "    .dataframe tbody tr th {\n",
       "        vertical-align: top;\n",
       "    }\n",
       "\n",
       "    .dataframe thead th {\n",
       "        text-align: right;\n",
       "    }\n",
       "</style>\n",
       "<table border=\"1\" class=\"dataframe\">\n",
       "  <thead>\n",
       "    <tr style=\"text-align: right;\">\n",
       "      <th></th>\n",
       "      <th>productname1</th>\n",
       "      <th>ratings1</th>\n",
       "      <th>price1</th>\n",
       "      <th>offers1</th>\n",
       "    </tr>\n",
       "  </thead>\n",
       "  <tbody>\n",
       "    <tr>\n",
       "      <th>0</th>\n",
       "      <td>HP Chromebook MediaTek Kompanio 500 - (4 GB/64...</td>\n",
       "      <td>3.8</td>\n",
       "      <td>₹22,990</td>\n",
       "      <td>7% off</td>\n",
       "    </tr>\n",
       "    <tr>\n",
       "      <th>1</th>\n",
       "      <td>HP Chromebook MediaTek Kompanio 500 - (4 GB/64...</td>\n",
       "      <td>3.8</td>\n",
       "      <td>₹22,490</td>\n",
       "      <td>9% off</td>\n",
       "    </tr>\n",
       "    <tr>\n",
       "      <th>2</th>\n",
       "      <td>ASUS VivoBook 15 (2021) Core i3 10th Gen - (8 ...</td>\n",
       "      <td>4.4</td>\n",
       "      <td>₹41,990</td>\n",
       "      <td>17% off</td>\n",
       "    </tr>\n",
       "    <tr>\n",
       "      <th>3</th>\n",
       "      <td>HP Core i3 11th Gen - (8 GB/512 GB SSD/Windows...</td>\n",
       "      <td>4.2</td>\n",
       "      <td>₹41,990</td>\n",
       "      <td>15% off</td>\n",
       "    </tr>\n",
       "    <tr>\n",
       "      <th>4</th>\n",
       "      <td>RedmiBook 15 e-Learning Edition Core i3 11th G...</td>\n",
       "      <td>4.3</td>\n",
       "      <td>₹42,999</td>\n",
       "      <td>23% off</td>\n",
       "    </tr>\n",
       "    <tr>\n",
       "      <th>5</th>\n",
       "      <td>HP Ryzen 3 Dual Core 3250U - (8 GB/256 GB SSD/...</td>\n",
       "      <td>4.3</td>\n",
       "      <td>₹39,990</td>\n",
       "      <td>15% off</td>\n",
       "    </tr>\n",
       "    <tr>\n",
       "      <th>6</th>\n",
       "      <td>HP Core i3 10th Gen - (8 GB/512 GB SSD/Windows...</td>\n",
       "      <td>4.3</td>\n",
       "      <td>₹41,990</td>\n",
       "      <td>16% off</td>\n",
       "    </tr>\n",
       "    <tr>\n",
       "      <th>7</th>\n",
       "      <td>HP Chromebook MediaTek Kompanio 500 - (4 GB/64...</td>\n",
       "      <td>3.8</td>\n",
       "      <td>₹22,490</td>\n",
       "      <td>9% off</td>\n",
       "    </tr>\n",
       "    <tr>\n",
       "      <th>8</th>\n",
       "      <td>ASUS Core i3 10th Gen - (4 GB + 32 GB Optane/5...</td>\n",
       "      <td>4.3</td>\n",
       "      <td>₹39,990</td>\n",
       "      <td>20% off</td>\n",
       "    </tr>\n",
       "  </tbody>\n",
       "</table>\n",
       "</div>"
      ],
      "text/plain": [
       "                                        productname1  ratings1   price1  \\\n",
       "0  HP Chromebook MediaTek Kompanio 500 - (4 GB/64...       3.8  ₹22,990   \n",
       "1  HP Chromebook MediaTek Kompanio 500 - (4 GB/64...       3.8  ₹22,490   \n",
       "2  ASUS VivoBook 15 (2021) Core i3 10th Gen - (8 ...       4.4  ₹41,990   \n",
       "3  HP Core i3 11th Gen - (8 GB/512 GB SSD/Windows...       4.2  ₹41,990   \n",
       "4  RedmiBook 15 e-Learning Edition Core i3 11th G...       4.3  ₹42,999   \n",
       "5  HP Ryzen 3 Dual Core 3250U - (8 GB/256 GB SSD/...       4.3  ₹39,990   \n",
       "6  HP Core i3 10th Gen - (8 GB/512 GB SSD/Windows...       4.3  ₹41,990   \n",
       "7  HP Chromebook MediaTek Kompanio 500 - (4 GB/64...       3.8  ₹22,490   \n",
       "8  ASUS Core i3 10th Gen - (4 GB + 32 GB Optane/5...       4.3  ₹39,990   \n",
       "\n",
       "   offers1  \n",
       "0   7% off  \n",
       "1   9% off  \n",
       "2  17% off  \n",
       "3  15% off  \n",
       "4  23% off  \n",
       "5  15% off  \n",
       "6  16% off  \n",
       "7   9% off  \n",
       "8  20% off  "
      ]
     },
     "execution_count": 59,
     "metadata": {},
     "output_type": "execute_result"
    }
   ],
   "source": [
    "laptop"
   ]
  },
  {
   "cell_type": "code",
   "execution_count": 60,
   "id": "22d8c3b7",
   "metadata": {},
   "outputs": [
    {
     "data": {
      "text/html": [
       "<div>\n",
       "<style scoped>\n",
       "    .dataframe tbody tr th:only-of-type {\n",
       "        vertical-align: middle;\n",
       "    }\n",
       "\n",
       "    .dataframe tbody tr th {\n",
       "        vertical-align: top;\n",
       "    }\n",
       "\n",
       "    .dataframe thead th {\n",
       "        text-align: right;\n",
       "    }\n",
       "</style>\n",
       "<table border=\"1\" class=\"dataframe\">\n",
       "  <thead>\n",
       "    <tr style=\"text-align: right;\">\n",
       "      <th></th>\n",
       "      <th>productname1</th>\n",
       "      <th>ratings1</th>\n",
       "      <th>price1</th>\n",
       "      <th>offers1</th>\n",
       "    </tr>\n",
       "  </thead>\n",
       "  <tbody>\n",
       "    <tr>\n",
       "      <th>0</th>\n",
       "      <td>HP Chromebook MediaTek Kompanio 500 - (4 GB/64...</td>\n",
       "      <td>3.8</td>\n",
       "      <td>₹22,990</td>\n",
       "      <td>7% off</td>\n",
       "    </tr>\n",
       "    <tr>\n",
       "      <th>1</th>\n",
       "      <td>HP Chromebook MediaTek Kompanio 500 - (4 GB/64...</td>\n",
       "      <td>3.8</td>\n",
       "      <td>₹22,490</td>\n",
       "      <td>9% off</td>\n",
       "    </tr>\n",
       "    <tr>\n",
       "      <th>2</th>\n",
       "      <td>ASUS VivoBook 15 (2021) Core i3 10th Gen - (8 ...</td>\n",
       "      <td>4.4</td>\n",
       "      <td>₹41,990</td>\n",
       "      <td>17% off</td>\n",
       "    </tr>\n",
       "    <tr>\n",
       "      <th>3</th>\n",
       "      <td>HP Core i3 11th Gen - (8 GB/512 GB SSD/Windows...</td>\n",
       "      <td>4.2</td>\n",
       "      <td>₹41,990</td>\n",
       "      <td>15% off</td>\n",
       "    </tr>\n",
       "    <tr>\n",
       "      <th>4</th>\n",
       "      <td>RedmiBook 15 e-Learning Edition Core i3 11th G...</td>\n",
       "      <td>4.3</td>\n",
       "      <td>₹42,999</td>\n",
       "      <td>23% off</td>\n",
       "    </tr>\n",
       "    <tr>\n",
       "      <th>5</th>\n",
       "      <td>HP Ryzen 3 Dual Core 3250U - (8 GB/256 GB SSD/...</td>\n",
       "      <td>4.3</td>\n",
       "      <td>₹39,990</td>\n",
       "      <td>15% off</td>\n",
       "    </tr>\n",
       "    <tr>\n",
       "      <th>6</th>\n",
       "      <td>HP Core i3 10th Gen - (8 GB/512 GB SSD/Windows...</td>\n",
       "      <td>4.3</td>\n",
       "      <td>₹41,990</td>\n",
       "      <td>16% off</td>\n",
       "    </tr>\n",
       "    <tr>\n",
       "      <th>7</th>\n",
       "      <td>HP Chromebook MediaTek Kompanio 500 - (4 GB/64...</td>\n",
       "      <td>3.8</td>\n",
       "      <td>₹22,490</td>\n",
       "      <td>9% off</td>\n",
       "    </tr>\n",
       "    <tr>\n",
       "      <th>8</th>\n",
       "      <td>ASUS Core i3 10th Gen - (4 GB + 32 GB Optane/5...</td>\n",
       "      <td>4.3</td>\n",
       "      <td>₹39,990</td>\n",
       "      <td>20% off</td>\n",
       "    </tr>\n",
       "  </tbody>\n",
       "</table>\n",
       "</div>"
      ],
      "text/plain": [
       "                                        productname1  ratings1   price1  \\\n",
       "0  HP Chromebook MediaTek Kompanio 500 - (4 GB/64...       3.8  ₹22,990   \n",
       "1  HP Chromebook MediaTek Kompanio 500 - (4 GB/64...       3.8  ₹22,490   \n",
       "2  ASUS VivoBook 15 (2021) Core i3 10th Gen - (8 ...       4.4  ₹41,990   \n",
       "3  HP Core i3 11th Gen - (8 GB/512 GB SSD/Windows...       4.2  ₹41,990   \n",
       "4  RedmiBook 15 e-Learning Edition Core i3 11th G...       4.3  ₹42,999   \n",
       "5  HP Ryzen 3 Dual Core 3250U - (8 GB/256 GB SSD/...       4.3  ₹39,990   \n",
       "6  HP Core i3 10th Gen - (8 GB/512 GB SSD/Windows...       4.3  ₹41,990   \n",
       "7  HP Chromebook MediaTek Kompanio 500 - (4 GB/64...       3.8  ₹22,490   \n",
       "8  ASUS Core i3 10th Gen - (4 GB + 32 GB Optane/5...       4.3  ₹39,990   \n",
       "\n",
       "   offers1  \n",
       "0   7% off  \n",
       "1   9% off  \n",
       "2  17% off  \n",
       "3  15% off  \n",
       "4  23% off  \n",
       "5  15% off  \n",
       "6  16% off  \n",
       "7   9% off  \n",
       "8  20% off  "
      ]
     },
     "execution_count": 60,
     "metadata": {},
     "output_type": "execute_result"
    }
   ],
   "source": [
    "laptop"
   ]
  },
  {
   "cell_type": "code",
   "execution_count": 61,
   "id": "738a8be7",
   "metadata": {},
   "outputs": [],
   "source": [
    "d=laptop['price1']"
   ]
  },
  {
   "cell_type": "code",
   "execution_count": 62,
   "id": "a448e265",
   "metadata": {},
   "outputs": [],
   "source": [
    "d1=laptop[\"offers1\"]"
   ]
  },
  {
   "cell_type": "code",
   "execution_count": 63,
   "id": "76f18862",
   "metadata": {},
   "outputs": [
    {
     "name": "stdout",
     "output_type": "stream",
     "text": [
      "['22990', '22490', '41990', '41990', '42999', '39990', '41990', '22490', '39990']\n"
     ]
    }
   ],
   "source": [
    "temp=[]\n",
    "import re\n",
    "t=re.compile(r'[^\\d]+')\n",
    "for i in d:\n",
    "    r=t.sub('',i)\n",
    "    temp.append(r)\n",
    "print(temp)"
   ]
  },
  {
   "cell_type": "code",
   "execution_count": 64,
   "id": "fddca275",
   "metadata": {},
   "outputs": [
    {
     "name": "stdout",
     "output_type": "stream",
     "text": [
      "['7', '9', '17', '15', '23', '15', '16', '9', '20']\n"
     ]
    }
   ],
   "source": [
    "temp1=[]\n",
    "import re\n",
    "t=re.compile(r'[^\\d]+')\n",
    "for i in d1:\n",
    "    r=t.sub('',i)\n",
    "    temp1.append(r)\n",
    "print(temp1)"
   ]
  },
  {
   "cell_type": "code",
   "execution_count": 65,
   "id": "262d7c40",
   "metadata": {},
   "outputs": [
    {
     "data": {
      "text/html": [
       "<div>\n",
       "<style scoped>\n",
       "    .dataframe tbody tr th:only-of-type {\n",
       "        vertical-align: middle;\n",
       "    }\n",
       "\n",
       "    .dataframe tbody tr th {\n",
       "        vertical-align: top;\n",
       "    }\n",
       "\n",
       "    .dataframe thead th {\n",
       "        text-align: right;\n",
       "    }\n",
       "</style>\n",
       "<table border=\"1\" class=\"dataframe\">\n",
       "  <thead>\n",
       "    <tr style=\"text-align: right;\">\n",
       "      <th></th>\n",
       "      <th>productname1</th>\n",
       "      <th>ratings1</th>\n",
       "      <th>price1</th>\n",
       "      <th>offers1</th>\n",
       "    </tr>\n",
       "  </thead>\n",
       "  <tbody>\n",
       "    <tr>\n",
       "      <th>0</th>\n",
       "      <td>HP Chromebook MediaTek Kompanio 500 - (4 GB/64...</td>\n",
       "      <td>3.8</td>\n",
       "      <td>22990</td>\n",
       "      <td>7% off</td>\n",
       "    </tr>\n",
       "    <tr>\n",
       "      <th>1</th>\n",
       "      <td>HP Chromebook MediaTek Kompanio 500 - (4 GB/64...</td>\n",
       "      <td>3.8</td>\n",
       "      <td>22490</td>\n",
       "      <td>9% off</td>\n",
       "    </tr>\n",
       "    <tr>\n",
       "      <th>2</th>\n",
       "      <td>ASUS VivoBook 15 (2021) Core i3 10th Gen - (8 ...</td>\n",
       "      <td>4.4</td>\n",
       "      <td>41990</td>\n",
       "      <td>17% off</td>\n",
       "    </tr>\n",
       "    <tr>\n",
       "      <th>3</th>\n",
       "      <td>HP Core i3 11th Gen - (8 GB/512 GB SSD/Windows...</td>\n",
       "      <td>4.2</td>\n",
       "      <td>41990</td>\n",
       "      <td>15% off</td>\n",
       "    </tr>\n",
       "    <tr>\n",
       "      <th>4</th>\n",
       "      <td>RedmiBook 15 e-Learning Edition Core i3 11th G...</td>\n",
       "      <td>4.3</td>\n",
       "      <td>42999</td>\n",
       "      <td>23% off</td>\n",
       "    </tr>\n",
       "    <tr>\n",
       "      <th>5</th>\n",
       "      <td>HP Ryzen 3 Dual Core 3250U - (8 GB/256 GB SSD/...</td>\n",
       "      <td>4.3</td>\n",
       "      <td>39990</td>\n",
       "      <td>15% off</td>\n",
       "    </tr>\n",
       "    <tr>\n",
       "      <th>6</th>\n",
       "      <td>HP Core i3 10th Gen - (8 GB/512 GB SSD/Windows...</td>\n",
       "      <td>4.3</td>\n",
       "      <td>41990</td>\n",
       "      <td>16% off</td>\n",
       "    </tr>\n",
       "    <tr>\n",
       "      <th>7</th>\n",
       "      <td>HP Chromebook MediaTek Kompanio 500 - (4 GB/64...</td>\n",
       "      <td>3.8</td>\n",
       "      <td>22490</td>\n",
       "      <td>9% off</td>\n",
       "    </tr>\n",
       "    <tr>\n",
       "      <th>8</th>\n",
       "      <td>ASUS Core i3 10th Gen - (4 GB + 32 GB Optane/5...</td>\n",
       "      <td>4.3</td>\n",
       "      <td>39990</td>\n",
       "      <td>20% off</td>\n",
       "    </tr>\n",
       "  </tbody>\n",
       "</table>\n",
       "</div>"
      ],
      "text/plain": [
       "                                        productname1  ratings1 price1  offers1\n",
       "0  HP Chromebook MediaTek Kompanio 500 - (4 GB/64...       3.8  22990   7% off\n",
       "1  HP Chromebook MediaTek Kompanio 500 - (4 GB/64...       3.8  22490   9% off\n",
       "2  ASUS VivoBook 15 (2021) Core i3 10th Gen - (8 ...       4.4  41990  17% off\n",
       "3  HP Core i3 11th Gen - (8 GB/512 GB SSD/Windows...       4.2  41990  15% off\n",
       "4  RedmiBook 15 e-Learning Edition Core i3 11th G...       4.3  42999  23% off\n",
       "5  HP Ryzen 3 Dual Core 3250U - (8 GB/256 GB SSD/...       4.3  39990  15% off\n",
       "6  HP Core i3 10th Gen - (8 GB/512 GB SSD/Windows...       4.3  41990  16% off\n",
       "7  HP Chromebook MediaTek Kompanio 500 - (4 GB/64...       3.8  22490   9% off\n",
       "8  ASUS Core i3 10th Gen - (4 GB + 32 GB Optane/5...       4.3  39990  20% off"
      ]
     },
     "execution_count": 65,
     "metadata": {},
     "output_type": "execute_result"
    }
   ],
   "source": [
    "laptop['price1']=temp\n",
    "laptop"
   ]
  },
  {
   "cell_type": "code",
   "execution_count": 66,
   "id": "4ca52183",
   "metadata": {},
   "outputs": [
    {
     "data": {
      "text/html": [
       "<div>\n",
       "<style scoped>\n",
       "    .dataframe tbody tr th:only-of-type {\n",
       "        vertical-align: middle;\n",
       "    }\n",
       "\n",
       "    .dataframe tbody tr th {\n",
       "        vertical-align: top;\n",
       "    }\n",
       "\n",
       "    .dataframe thead th {\n",
       "        text-align: right;\n",
       "    }\n",
       "</style>\n",
       "<table border=\"1\" class=\"dataframe\">\n",
       "  <thead>\n",
       "    <tr style=\"text-align: right;\">\n",
       "      <th></th>\n",
       "      <th>productname1</th>\n",
       "      <th>ratings1</th>\n",
       "      <th>price1</th>\n",
       "      <th>offers1</th>\n",
       "    </tr>\n",
       "  </thead>\n",
       "  <tbody>\n",
       "    <tr>\n",
       "      <th>0</th>\n",
       "      <td>HP Chromebook MediaTek Kompanio 500 - (4 GB/64...</td>\n",
       "      <td>3.8</td>\n",
       "      <td>22990</td>\n",
       "      <td>7</td>\n",
       "    </tr>\n",
       "    <tr>\n",
       "      <th>1</th>\n",
       "      <td>HP Chromebook MediaTek Kompanio 500 - (4 GB/64...</td>\n",
       "      <td>3.8</td>\n",
       "      <td>22490</td>\n",
       "      <td>9</td>\n",
       "    </tr>\n",
       "    <tr>\n",
       "      <th>2</th>\n",
       "      <td>ASUS VivoBook 15 (2021) Core i3 10th Gen - (8 ...</td>\n",
       "      <td>4.4</td>\n",
       "      <td>41990</td>\n",
       "      <td>17</td>\n",
       "    </tr>\n",
       "    <tr>\n",
       "      <th>3</th>\n",
       "      <td>HP Core i3 11th Gen - (8 GB/512 GB SSD/Windows...</td>\n",
       "      <td>4.2</td>\n",
       "      <td>41990</td>\n",
       "      <td>15</td>\n",
       "    </tr>\n",
       "    <tr>\n",
       "      <th>4</th>\n",
       "      <td>RedmiBook 15 e-Learning Edition Core i3 11th G...</td>\n",
       "      <td>4.3</td>\n",
       "      <td>42999</td>\n",
       "      <td>23</td>\n",
       "    </tr>\n",
       "    <tr>\n",
       "      <th>5</th>\n",
       "      <td>HP Ryzen 3 Dual Core 3250U - (8 GB/256 GB SSD/...</td>\n",
       "      <td>4.3</td>\n",
       "      <td>39990</td>\n",
       "      <td>15</td>\n",
       "    </tr>\n",
       "    <tr>\n",
       "      <th>6</th>\n",
       "      <td>HP Core i3 10th Gen - (8 GB/512 GB SSD/Windows...</td>\n",
       "      <td>4.3</td>\n",
       "      <td>41990</td>\n",
       "      <td>16</td>\n",
       "    </tr>\n",
       "    <tr>\n",
       "      <th>7</th>\n",
       "      <td>HP Chromebook MediaTek Kompanio 500 - (4 GB/64...</td>\n",
       "      <td>3.8</td>\n",
       "      <td>22490</td>\n",
       "      <td>9</td>\n",
       "    </tr>\n",
       "    <tr>\n",
       "      <th>8</th>\n",
       "      <td>ASUS Core i3 10th Gen - (4 GB + 32 GB Optane/5...</td>\n",
       "      <td>4.3</td>\n",
       "      <td>39990</td>\n",
       "      <td>20</td>\n",
       "    </tr>\n",
       "  </tbody>\n",
       "</table>\n",
       "</div>"
      ],
      "text/plain": [
       "                                        productname1  ratings1 price1 offers1\n",
       "0  HP Chromebook MediaTek Kompanio 500 - (4 GB/64...       3.8  22990       7\n",
       "1  HP Chromebook MediaTek Kompanio 500 - (4 GB/64...       3.8  22490       9\n",
       "2  ASUS VivoBook 15 (2021) Core i3 10th Gen - (8 ...       4.4  41990      17\n",
       "3  HP Core i3 11th Gen - (8 GB/512 GB SSD/Windows...       4.2  41990      15\n",
       "4  RedmiBook 15 e-Learning Edition Core i3 11th G...       4.3  42999      23\n",
       "5  HP Ryzen 3 Dual Core 3250U - (8 GB/256 GB SSD/...       4.3  39990      15\n",
       "6  HP Core i3 10th Gen - (8 GB/512 GB SSD/Windows...       4.3  41990      16\n",
       "7  HP Chromebook MediaTek Kompanio 500 - (4 GB/64...       3.8  22490       9\n",
       "8  ASUS Core i3 10th Gen - (4 GB + 32 GB Optane/5...       4.3  39990      20"
      ]
     },
     "execution_count": 66,
     "metadata": {},
     "output_type": "execute_result"
    }
   ],
   "source": [
    "laptop[\"offers1\"]=temp1\n",
    "laptop"
   ]
  },
  {
   "cell_type": "code",
   "execution_count": 67,
   "id": "87fcd48d",
   "metadata": {},
   "outputs": [],
   "source": [
    "laptop['price1']=laptop['price1'].astype(float)"
   ]
  },
  {
   "cell_type": "code",
   "execution_count": 68,
   "id": "4c4a7710",
   "metadata": {},
   "outputs": [
    {
     "data": {
      "text/html": [
       "<div>\n",
       "<style scoped>\n",
       "    .dataframe tbody tr th:only-of-type {\n",
       "        vertical-align: middle;\n",
       "    }\n",
       "\n",
       "    .dataframe tbody tr th {\n",
       "        vertical-align: top;\n",
       "    }\n",
       "\n",
       "    .dataframe thead th {\n",
       "        text-align: right;\n",
       "    }\n",
       "</style>\n",
       "<table border=\"1\" class=\"dataframe\">\n",
       "  <thead>\n",
       "    <tr style=\"text-align: right;\">\n",
       "      <th></th>\n",
       "      <th>productname1</th>\n",
       "      <th>ratings1</th>\n",
       "      <th>price1</th>\n",
       "      <th>offers1</th>\n",
       "    </tr>\n",
       "  </thead>\n",
       "  <tbody>\n",
       "    <tr>\n",
       "      <th>0</th>\n",
       "      <td>HP Chromebook MediaTek Kompanio 500 - (4 GB/64...</td>\n",
       "      <td>3.8</td>\n",
       "      <td>22990.0</td>\n",
       "      <td>7</td>\n",
       "    </tr>\n",
       "    <tr>\n",
       "      <th>1</th>\n",
       "      <td>HP Chromebook MediaTek Kompanio 500 - (4 GB/64...</td>\n",
       "      <td>3.8</td>\n",
       "      <td>22490.0</td>\n",
       "      <td>9</td>\n",
       "    </tr>\n",
       "    <tr>\n",
       "      <th>2</th>\n",
       "      <td>ASUS VivoBook 15 (2021) Core i3 10th Gen - (8 ...</td>\n",
       "      <td>4.4</td>\n",
       "      <td>41990.0</td>\n",
       "      <td>17</td>\n",
       "    </tr>\n",
       "    <tr>\n",
       "      <th>3</th>\n",
       "      <td>HP Core i3 11th Gen - (8 GB/512 GB SSD/Windows...</td>\n",
       "      <td>4.2</td>\n",
       "      <td>41990.0</td>\n",
       "      <td>15</td>\n",
       "    </tr>\n",
       "    <tr>\n",
       "      <th>4</th>\n",
       "      <td>RedmiBook 15 e-Learning Edition Core i3 11th G...</td>\n",
       "      <td>4.3</td>\n",
       "      <td>42999.0</td>\n",
       "      <td>23</td>\n",
       "    </tr>\n",
       "    <tr>\n",
       "      <th>5</th>\n",
       "      <td>HP Ryzen 3 Dual Core 3250U - (8 GB/256 GB SSD/...</td>\n",
       "      <td>4.3</td>\n",
       "      <td>39990.0</td>\n",
       "      <td>15</td>\n",
       "    </tr>\n",
       "    <tr>\n",
       "      <th>6</th>\n",
       "      <td>HP Core i3 10th Gen - (8 GB/512 GB SSD/Windows...</td>\n",
       "      <td>4.3</td>\n",
       "      <td>41990.0</td>\n",
       "      <td>16</td>\n",
       "    </tr>\n",
       "    <tr>\n",
       "      <th>7</th>\n",
       "      <td>HP Chromebook MediaTek Kompanio 500 - (4 GB/64...</td>\n",
       "      <td>3.8</td>\n",
       "      <td>22490.0</td>\n",
       "      <td>9</td>\n",
       "    </tr>\n",
       "    <tr>\n",
       "      <th>8</th>\n",
       "      <td>ASUS Core i3 10th Gen - (4 GB + 32 GB Optane/5...</td>\n",
       "      <td>4.3</td>\n",
       "      <td>39990.0</td>\n",
       "      <td>20</td>\n",
       "    </tr>\n",
       "  </tbody>\n",
       "</table>\n",
       "</div>"
      ],
      "text/plain": [
       "                                        productname1  ratings1   price1  \\\n",
       "0  HP Chromebook MediaTek Kompanio 500 - (4 GB/64...       3.8  22990.0   \n",
       "1  HP Chromebook MediaTek Kompanio 500 - (4 GB/64...       3.8  22490.0   \n",
       "2  ASUS VivoBook 15 (2021) Core i3 10th Gen - (8 ...       4.4  41990.0   \n",
       "3  HP Core i3 11th Gen - (8 GB/512 GB SSD/Windows...       4.2  41990.0   \n",
       "4  RedmiBook 15 e-Learning Edition Core i3 11th G...       4.3  42999.0   \n",
       "5  HP Ryzen 3 Dual Core 3250U - (8 GB/256 GB SSD/...       4.3  39990.0   \n",
       "6  HP Core i3 10th Gen - (8 GB/512 GB SSD/Windows...       4.3  41990.0   \n",
       "7  HP Chromebook MediaTek Kompanio 500 - (4 GB/64...       3.8  22490.0   \n",
       "8  ASUS Core i3 10th Gen - (4 GB + 32 GB Optane/5...       4.3  39990.0   \n",
       "\n",
       "  offers1  \n",
       "0       7  \n",
       "1       9  \n",
       "2      17  \n",
       "3      15  \n",
       "4      23  \n",
       "5      15  \n",
       "6      16  \n",
       "7       9  \n",
       "8      20  "
      ]
     },
     "execution_count": 68,
     "metadata": {},
     "output_type": "execute_result"
    }
   ],
   "source": [
    "laptop"
   ]
  },
  {
   "cell_type": "code",
   "execution_count": 69,
   "id": "17d8331b",
   "metadata": {},
   "outputs": [
    {
     "data": {
      "text/html": [
       "<div>\n",
       "<style scoped>\n",
       "    .dataframe tbody tr th:only-of-type {\n",
       "        vertical-align: middle;\n",
       "    }\n",
       "\n",
       "    .dataframe tbody tr th {\n",
       "        vertical-align: top;\n",
       "    }\n",
       "\n",
       "    .dataframe thead th {\n",
       "        text-align: right;\n",
       "    }\n",
       "</style>\n",
       "<table border=\"1\" class=\"dataframe\">\n",
       "  <thead>\n",
       "    <tr style=\"text-align: right;\">\n",
       "      <th></th>\n",
       "      <th>productname1</th>\n",
       "      <th>ratings1</th>\n",
       "      <th>price1</th>\n",
       "      <th>offers1</th>\n",
       "    </tr>\n",
       "  </thead>\n",
       "  <tbody>\n",
       "    <tr>\n",
       "      <th>0</th>\n",
       "      <td>False</td>\n",
       "      <td>False</td>\n",
       "      <td>False</td>\n",
       "      <td>False</td>\n",
       "    </tr>\n",
       "    <tr>\n",
       "      <th>1</th>\n",
       "      <td>False</td>\n",
       "      <td>False</td>\n",
       "      <td>False</td>\n",
       "      <td>False</td>\n",
       "    </tr>\n",
       "    <tr>\n",
       "      <th>2</th>\n",
       "      <td>False</td>\n",
       "      <td>False</td>\n",
       "      <td>False</td>\n",
       "      <td>False</td>\n",
       "    </tr>\n",
       "    <tr>\n",
       "      <th>3</th>\n",
       "      <td>False</td>\n",
       "      <td>False</td>\n",
       "      <td>False</td>\n",
       "      <td>False</td>\n",
       "    </tr>\n",
       "    <tr>\n",
       "      <th>4</th>\n",
       "      <td>False</td>\n",
       "      <td>False</td>\n",
       "      <td>False</td>\n",
       "      <td>False</td>\n",
       "    </tr>\n",
       "    <tr>\n",
       "      <th>5</th>\n",
       "      <td>False</td>\n",
       "      <td>False</td>\n",
       "      <td>False</td>\n",
       "      <td>False</td>\n",
       "    </tr>\n",
       "    <tr>\n",
       "      <th>6</th>\n",
       "      <td>False</td>\n",
       "      <td>False</td>\n",
       "      <td>False</td>\n",
       "      <td>False</td>\n",
       "    </tr>\n",
       "    <tr>\n",
       "      <th>7</th>\n",
       "      <td>False</td>\n",
       "      <td>False</td>\n",
       "      <td>False</td>\n",
       "      <td>False</td>\n",
       "    </tr>\n",
       "    <tr>\n",
       "      <th>8</th>\n",
       "      <td>False</td>\n",
       "      <td>False</td>\n",
       "      <td>False</td>\n",
       "      <td>False</td>\n",
       "    </tr>\n",
       "  </tbody>\n",
       "</table>\n",
       "</div>"
      ],
      "text/plain": [
       "   productname1  ratings1  price1  offers1\n",
       "0         False     False   False    False\n",
       "1         False     False   False    False\n",
       "2         False     False   False    False\n",
       "3         False     False   False    False\n",
       "4         False     False   False    False\n",
       "5         False     False   False    False\n",
       "6         False     False   False    False\n",
       "7         False     False   False    False\n",
       "8         False     False   False    False"
      ]
     },
     "execution_count": 69,
     "metadata": {},
     "output_type": "execute_result"
    }
   ],
   "source": [
    "#missing value\n",
    "laptop.isnull()"
   ]
  },
  {
   "cell_type": "code",
   "execution_count": 70,
   "id": "cd262f2f",
   "metadata": {},
   "outputs": [
    {
     "data": {
      "text/plain": [
       "productname1     object\n",
       "ratings1        float64\n",
       "price1          float64\n",
       "offers1          object\n",
       "dtype: object"
      ]
     },
     "execution_count": 70,
     "metadata": {},
     "output_type": "execute_result"
    }
   ],
   "source": [
    "laptop.dtypes"
   ]
  },
  {
   "cell_type": "code",
   "execution_count": 71,
   "id": "1ae99904",
   "metadata": {},
   "outputs": [
    {
     "data": {
      "text/plain": [
       "<AxesSubplot:xlabel='productname1'>"
      ]
     },
     "execution_count": 71,
     "metadata": {},
     "output_type": "execute_result"
    },
    {
     "data": {
      "image/png": "[encoded data removed]",
      "text/plain": [
       "<Figure size 432x288 with 1 Axes>"
      ]
     },
     "metadata": {
      "needs_background": "light"
     },
     "output_type": "display_data"
    }
   ],
   "source": [
    "laptop.plot(kind='bar',x='productname1',y='price1')   "
   ]
  },
  {
   "cell_type": "code",
   "execution_count": 72,
   "id": "6410d1e8",
   "metadata": {},
   "outputs": [
    {
     "data": {
      "text/plain": [
       "<AxesSubplot:xlabel='productname1', ylabel='price1'>"
      ]
     },
     "execution_count": 72,
     "metadata": {},
     "output_type": "execute_result"
    },
    {
     "data": {
      "image/png": "[encoded data removed]",
      "text/plain": [
       "<Figure size 432x288 with 1 Axes>"
      ]
     },
     "metadata": {
      "needs_background": "light"
     },
     "output_type": "display_data"
    }
   ],
   "source": [
    "laptop.plot(kind='scatter',x='productname1',y='price1')   "
   ]
  },
  {
   "cell_type": "code",
   "execution_count": 73,
   "id": "244f523b",
   "metadata": {},
   "outputs": [
    {
     "data": {
      "text/plain": [
       "<AxesSubplot:xlabel='productname1'>"
      ]
     },
     "execution_count": 73,
     "metadata": {},
     "output_type": "execute_result"
    },
    {
     "data": {
      "image/png": "[encoded data removed]",
      "text/plain": [
       "<Figure size 432x288 with 1 Axes>"
      ]
     },
     "metadata": {
      "needs_background": "light"
     },
     "output_type": "display_data"
    }
   ],
   "source": [
    "laptop.plot(kind='bar',x='productname1',y='ratings1')\n"
   ]
  },
  {
   "cell_type": "code",
   "execution_count": 74,
   "id": "1e2a35f0",
   "metadata": {},
   "outputs": [
    {
     "data": {
      "text/plain": [
       "<AxesSubplot:xlabel='productname1', ylabel='ratings1'>"
      ]
     },
     "execution_count": 74,
     "metadata": {},
     "output_type": "execute_result"
    },
    {
     "data": {
      "image/png": "[encoded data removed]",
      "text/plain": [
       "<Figure size 432x288 with 1 Axes>"
      ]
     },
     "metadata": {
      "needs_background": "light"
     },
     "output_type": "display_data"
    }
   ],
   "source": [
    "laptop.plot(kind='scatter',x='productname1',y='ratings1')\n"
   ]
  },
  {
   "cell_type": "code",
   "execution_count": 75,
   "id": "6b0e5a63",
   "metadata": {},
   "outputs": [
    {
     "data": {
      "text/plain": [
       "array([[<AxesSubplot:title={'center':'3.8'}>,\n",
       "        <AxesSubplot:title={'center':'4.2'}>],\n",
       "       [<AxesSubplot:title={'center':'4.3'}>,\n",
       "        <AxesSubplot:title={'center':'4.4'}>]], dtype=object)"
      ]
     },
     "execution_count": 75,
     "metadata": {},
     "output_type": "execute_result"
    },
    {
     "data": {
      "image/png": "[encoded data removed]",
      "text/plain": [
       "<Figure size 432x288 with 4 Axes>"
      ]
     },
     "metadata": {
      "needs_background": "light"
     },
     "output_type": "display_data"
    }
   ],
   "source": [
    "laptop.hist('price1','ratings1')\n"
   ]
  },
  {
   "cell_type": "code",
   "execution_count": 76,
   "id": "4108bb31",
   "metadata": {},
   "outputs": [],
   "source": [
    "from bs4 import BeautifulSoup as s\n",
    "from urllib.request import urlopen as u\n",
    "import pandas as pd\n",
    "import numpy as np\n",
    "import matplotlib.pyplot as plt\n",
    "import seaborn as sns\n"
   ]
  },
  {
   "cell_type": "code",
   "execution_count": 77,
   "id": "0cb39a62",
   "metadata": {},
   "outputs": [],
   "source": [
    "link=\"https://www.shopclues.com/search?q=laptop&z=0&hcat_id=166\"\n",
    "pagecontent=u(link)\n",
    "pagecode=pagecontent.read()\n"
   ]
  },
  {
   "cell_type": "code",
   "execution_count": 78,
   "id": "2f7f4682",
   "metadata": {},
   "outputs": [],
   "source": [
    "page_file=s(pagecode)"
   ]
  },
  {
   "cell_type": "code",
   "execution_count": 79,
   "id": "41dba9cd",
   "metadata": {},
   "outputs": [
    {
     "name": "stdout",
     "output_type": "stream",
     "text": [
      "Dell Inspiron 5409 14.0quot (35.56cms)FHD WVA AG Displa\n"
     ]
    }
   ],
   "source": [
    "modelname_de=page_file.find(\"h2\")\n",
    "print(modelname_de.text)"
   ]
  },
  {
   "cell_type": "code",
   "execution_count": 80,
   "id": "b18c1f78",
   "metadata": {},
   "outputs": [],
   "source": [
    "productname_de=[]\n",
    "modelname=page_file.findAll(\"h2\")\n",
    "for i in modelname:\n",
    "    p=i.text\n",
    "    productname_de.append(p)"
   ]
  },
  {
   "cell_type": "code",
   "execution_count": 81,
   "id": "de71feea",
   "metadata": {},
   "outputs": [
    {
     "data": {
      "text/plain": [
       "['Dell Inspiron 5409 14.0quot (35.56cms)FHD WVA AG Displa',\n",
       " 'Dell XPS 9305 13.3\" FHD InfinityEdge Thin & Light Lapto',\n",
       " 'Dell Inspiron 15 G3 3500 Gaming Laptop (10th Gen Intel ',\n",
       " 'HP Pavilion Gaming(2021) 10th Gen Intel Core i7 15.6-in',\n",
       " 'Global Shopping\\n    \\n            \\n            See More\\n',\n",
       " 'Lenovo Legion 5 10th Gen Intel Core i7-10750H 15.6 (39.',\n",
       " 'HP Pavilion Gaming 10th Gen Intel Core i7 Processor 15.',\n",
       " 'Dell Inspiron 3502 15.6\" (39.62 cms) HD Display Laptop ',\n",
       " 'Dell Inspiron 5410 14.0\" FHD WVA Truelife Touch 60Hz Na',\n",
       " 'Dell Inspiron 3505 15.6\" FHD AG Display Laptop (Ryzen-7',\n",
       " 'Dell Inspiron 7400 14.5 QHD+ IPS Anti Glare Display 11t',\n",
       " 'Dell Inspiron 3501 15.6\" FHD Display Laptop (i5-1135G7/',\n",
       " 'HP Spectre X360 2020 GEM Cut 13.3quot FHD Touch Laptop ']"
      ]
     },
     "execution_count": 81,
     "metadata": {},
     "output_type": "execute_result"
    }
   ],
   "source": [
    "productname_de"
   ]
  },
  {
   "cell_type": "code",
   "execution_count": 82,
   "id": "36ffb017",
   "metadata": {},
   "outputs": [
    {
     "name": "stdout",
     "output_type": "stream",
     "text": [
      "8% Off\n"
     ]
    }
   ],
   "source": [
    "modelname_de=page_file.find(\"span\",{\"class\":'prd_discount'})\n",
    "print(modelname_de.text)"
   ]
  },
  {
   "cell_type": "code",
   "execution_count": 83,
   "id": "fd58b562",
   "metadata": {},
   "outputs": [
    {
     "name": "stdout",
     "output_type": "stream",
     "text": [
      "₹148,800                                             \n"
     ]
    }
   ],
   "source": [
    "modelname_de=page_file.find(\"span\",{\"class\":'p_price'})\n",
    "print(modelname_de.text)"
   ]
  },
  {
   "cell_type": "code",
   "execution_count": 84,
   "id": "da38509f",
   "metadata": {},
   "outputs": [
    {
     "data": {
      "text/plain": [
       "['8% Off',\n",
       " '1% Off',\n",
       " '6% Off',\n",
       " '3% Off',\n",
       " '5% Off',\n",
       " '8% Off',\n",
       " '1% Off',\n",
       " '15% Off',\n",
       " '10% Off',\n",
       " '2% Off',\n",
       " '24% Off']"
      ]
     },
     "execution_count": 84,
     "metadata": {},
     "output_type": "execute_result"
    }
   ],
   "source": [
    "offers=[]\n",
    "modelname_de=page_file.findAll(\"span\",{\"class\":'prd_discount'})\n",
    "for i in modelname_de:\n",
    "    p=i.text\n",
    "    offers.append(p)\n",
    "offers"
   ]
  },
  {
   "cell_type": "code",
   "execution_count": 85,
   "id": "b5df40bb",
   "metadata": {},
   "outputs": [
    {
     "data": {
      "text/plain": [
       "['8% Off',\n",
       " '1% Off',\n",
       " '6% Off',\n",
       " '3% Off',\n",
       " '5% Off',\n",
       " '8% Off',\n",
       " '1% Off',\n",
       " '15% Off',\n",
       " '10% Off',\n",
       " '2% Off',\n",
       " '24% Off']"
      ]
     },
     "execution_count": 85,
     "metadata": {},
     "output_type": "execute_result"
    }
   ],
   "source": [
    "offers=[]\n",
    "modelname_de=page_file.findAll(\"span\",{\"class\":'prd_discount'})\n",
    "for i in modelname_de:\n",
    "    p=i.text\n",
    "    offers.append(p)\n",
    "offers"
   ]
  },
  {
   "cell_type": "code",
   "execution_count": 86,
   "id": "a9cd6d4d",
   "metadata": {},
   "outputs": [
    {
     "data": {
      "text/plain": [
       "['₹148,800                                             ',\n",
       " '₹150,000                                             ',\n",
       " '₹120,689                                             ',\n",
       " '₹121,889                                                 ',\n",
       " '₹118,800                                             ',\n",
       " '₹120,000                                             ',\n",
       " '₹97,800                                             ',\n",
       " '₹99,000                                             ',\n",
       " '₹95,800                                             ',\n",
       " '₹97,000                                             ',\n",
       " '₹103,800                                             ',\n",
       " '₹105,000                                             ',\n",
       " '₹82,699                                             ',\n",
       " '₹83,899                                                 ',\n",
       " '₹187,549                                             ',\n",
       " '₹188,749                                             ',\n",
       " '₹67,339                                             ',\n",
       " '₹68,539                                             ',\n",
       " '₹89,799                                             ',\n",
       " '₹90,999                                             ',\n",
       " '₹54,439                                             ',\n",
       " '₹55,639                                             ',\n",
       " '₹136,800                                             ',\n",
       " '₹138,000                                             ']"
      ]
     },
     "execution_count": 86,
     "metadata": {},
     "output_type": "execute_result"
    }
   ],
   "source": [
    "price_de=[]\n",
    "modelname_de=page_file.findAll(\"span\",{\"class\":'p_price'})\n",
    "for i in modelname_de:\n",
    "    p=i.text\n",
    "    price_de.append(p)\n",
    "price_de"
   ]
  },
  {
   "cell_type": "code",
   "execution_count": 87,
   "id": "8a60c1db",
   "metadata": {},
   "outputs": [
    {
     "data": {
      "text/plain": [
       "24"
      ]
     },
     "execution_count": 87,
     "metadata": {},
     "output_type": "execute_result"
    }
   ],
   "source": [
    "len(price_de)"
   ]
  },
  {
   "cell_type": "code",
   "execution_count": 88,
   "id": "83632dd9",
   "metadata": {},
   "outputs": [],
   "source": [
    "del price_de[9:24]"
   ]
  },
  {
   "cell_type": "code",
   "execution_count": 89,
   "id": "1591b2fb",
   "metadata": {},
   "outputs": [
    {
     "data": {
      "text/plain": [
       "11"
      ]
     },
     "execution_count": 89,
     "metadata": {},
     "output_type": "execute_result"
    }
   ],
   "source": [
    "len(offers)"
   ]
  },
  {
   "cell_type": "code",
   "execution_count": 90,
   "id": "ffa81af5",
   "metadata": {},
   "outputs": [],
   "source": [
    "del offers[9:11]"
   ]
  },
  {
   "cell_type": "code",
   "execution_count": 91,
   "id": "62ee553a",
   "metadata": {},
   "outputs": [
    {
     "data": {
      "text/plain": [
       "13"
      ]
     },
     "execution_count": 91,
     "metadata": {},
     "output_type": "execute_result"
    }
   ],
   "source": [
    "len(productname_de)"
   ]
  },
  {
   "cell_type": "code",
   "execution_count": 92,
   "id": "57593115",
   "metadata": {},
   "outputs": [],
   "source": [
    "del productname_de[9:13]"
   ]
  },
  {
   "cell_type": "code",
   "execution_count": 93,
   "id": "79de351d",
   "metadata": {},
   "outputs": [
    {
     "data": {
      "text/html": [
       "<div>\n",
       "<style scoped>\n",
       "    .dataframe tbody tr th:only-of-type {\n",
       "        vertical-align: middle;\n",
       "    }\n",
       "\n",
       "    .dataframe tbody tr th {\n",
       "        vertical-align: top;\n",
       "    }\n",
       "\n",
       "    .dataframe thead th {\n",
       "        text-align: right;\n",
       "    }\n",
       "</style>\n",
       "<table border=\"1\" class=\"dataframe\">\n",
       "  <thead>\n",
       "    <tr style=\"text-align: right;\">\n",
       "      <th></th>\n",
       "      <th>productname2</th>\n",
       "      <th>offers2</th>\n",
       "      <th>price2</th>\n",
       "    </tr>\n",
       "  </thead>\n",
       "  <tbody>\n",
       "    <tr>\n",
       "      <th>0</th>\n",
       "      <td>Dell Inspiron 5409 14.0quot (35.56cms)FHD WVA ...</td>\n",
       "      <td>8% Off</td>\n",
       "      <td>₹148,800                                      ...</td>\n",
       "    </tr>\n",
       "    <tr>\n",
       "      <th>1</th>\n",
       "      <td>Dell XPS 9305 13.3\" FHD InfinityEdge Thin &amp; Li...</td>\n",
       "      <td>1% Off</td>\n",
       "      <td>₹150,000                                      ...</td>\n",
       "    </tr>\n",
       "    <tr>\n",
       "      <th>2</th>\n",
       "      <td>Dell Inspiron 15 G3 3500 Gaming Laptop (10th G...</td>\n",
       "      <td>6% Off</td>\n",
       "      <td>₹120,689                                      ...</td>\n",
       "    </tr>\n",
       "    <tr>\n",
       "      <th>3</th>\n",
       "      <td>HP Pavilion Gaming(2021) 10th Gen Intel Core i...</td>\n",
       "      <td>3% Off</td>\n",
       "      <td>₹121,889                                      ...</td>\n",
       "    </tr>\n",
       "    <tr>\n",
       "      <th>4</th>\n",
       "      <td>Global Shopping\\n    \\n            \\n         ...</td>\n",
       "      <td>5% Off</td>\n",
       "      <td>₹118,800                                      ...</td>\n",
       "    </tr>\n",
       "    <tr>\n",
       "      <th>5</th>\n",
       "      <td>Lenovo Legion 5 10th Gen Intel Core i7-10750H ...</td>\n",
       "      <td>8% Off</td>\n",
       "      <td>₹120,000                                      ...</td>\n",
       "    </tr>\n",
       "    <tr>\n",
       "      <th>6</th>\n",
       "      <td>HP Pavilion Gaming 10th Gen Intel Core i7 Proc...</td>\n",
       "      <td>1% Off</td>\n",
       "      <td>₹97,800                                       ...</td>\n",
       "    </tr>\n",
       "    <tr>\n",
       "      <th>7</th>\n",
       "      <td>Dell Inspiron 3502 15.6\" (39.62 cms) HD Displa...</td>\n",
       "      <td>15% Off</td>\n",
       "      <td>₹99,000                                       ...</td>\n",
       "    </tr>\n",
       "    <tr>\n",
       "      <th>8</th>\n",
       "      <td>Dell Inspiron 5410 14.0\" FHD WVA Truelife Touc...</td>\n",
       "      <td>10% Off</td>\n",
       "      <td>₹95,800                                       ...</td>\n",
       "    </tr>\n",
       "  </tbody>\n",
       "</table>\n",
       "</div>"
      ],
      "text/plain": [
       "                                        productname2  offers2  \\\n",
       "0  Dell Inspiron 5409 14.0quot (35.56cms)FHD WVA ...   8% Off   \n",
       "1  Dell XPS 9305 13.3\" FHD InfinityEdge Thin & Li...   1% Off   \n",
       "2  Dell Inspiron 15 G3 3500 Gaming Laptop (10th G...   6% Off   \n",
       "3  HP Pavilion Gaming(2021) 10th Gen Intel Core i...   3% Off   \n",
       "4  Global Shopping\\n    \\n            \\n         ...   5% Off   \n",
       "5  Lenovo Legion 5 10th Gen Intel Core i7-10750H ...   8% Off   \n",
       "6  HP Pavilion Gaming 10th Gen Intel Core i7 Proc...   1% Off   \n",
       "7  Dell Inspiron 3502 15.6\" (39.62 cms) HD Displa...  15% Off   \n",
       "8  Dell Inspiron 5410 14.0\" FHD WVA Truelife Touc...  10% Off   \n",
       "\n",
       "                                              price2  \n",
       "0  ₹148,800                                      ...  \n",
       "1  ₹150,000                                      ...  \n",
       "2  ₹120,689                                      ...  \n",
       "3  ₹121,889                                      ...  \n",
       "4  ₹118,800                                      ...  \n",
       "5  ₹120,000                                      ...  \n",
       "6  ₹97,800                                       ...  \n",
       "7  ₹99,000                                       ...  \n",
       "8  ₹95,800                                       ...  "
      ]
     },
     "execution_count": 93,
     "metadata": {},
     "output_type": "execute_result"
    }
   ],
   "source": [
    "d2={'productname2':productname_de,'offers2':offers,'price2':price_de}\n",
    "laptop2=pd.DataFrame(d2)\n",
    "laptop2\n"
   ]
  },
  {
   "cell_type": "code",
   "execution_count": 94,
   "id": "cdeb873f",
   "metadata": {},
   "outputs": [],
   "source": [
    "laptop2.to_csv(\"source2.csv\")"
   ]
  },
  {
   "cell_type": "code",
   "execution_count": 95,
   "id": "a5c5eaa4",
   "metadata": {},
   "outputs": [
    {
     "data": {
      "text/html": [
       "<div>\n",
       "<style scoped>\n",
       "    .dataframe tbody tr th:only-of-type {\n",
       "        vertical-align: middle;\n",
       "    }\n",
       "\n",
       "    .dataframe tbody tr th {\n",
       "        vertical-align: top;\n",
       "    }\n",
       "\n",
       "    .dataframe thead th {\n",
       "        text-align: right;\n",
       "    }\n",
       "</style>\n",
       "<table border=\"1\" class=\"dataframe\">\n",
       "  <thead>\n",
       "    <tr style=\"text-align: right;\">\n",
       "      <th></th>\n",
       "      <th>Unnamed: 0</th>\n",
       "      <th>productname2</th>\n",
       "      <th>offers2</th>\n",
       "      <th>price2</th>\n",
       "    </tr>\n",
       "  </thead>\n",
       "  <tbody>\n",
       "    <tr>\n",
       "      <th>0</th>\n",
       "      <td>0</td>\n",
       "      <td>Dell Inspiron 5409 14.0quot (35.56cms)FHD WVA ...</td>\n",
       "      <td>8% Off</td>\n",
       "      <td>₹148,800                                      ...</td>\n",
       "    </tr>\n",
       "    <tr>\n",
       "      <th>1</th>\n",
       "      <td>1</td>\n",
       "      <td>Dell XPS 9305 13.3\" FHD InfinityEdge Thin &amp; Li...</td>\n",
       "      <td>1% Off</td>\n",
       "      <td>₹150,000                                      ...</td>\n",
       "    </tr>\n",
       "    <tr>\n",
       "      <th>2</th>\n",
       "      <td>2</td>\n",
       "      <td>Dell Inspiron 15 G3 3500 Gaming Laptop (10th G...</td>\n",
       "      <td>6% Off</td>\n",
       "      <td>₹120,689                                      ...</td>\n",
       "    </tr>\n",
       "    <tr>\n",
       "      <th>3</th>\n",
       "      <td>3</td>\n",
       "      <td>HP Pavilion Gaming(2021) 10th Gen Intel Core i...</td>\n",
       "      <td>3% Off</td>\n",
       "      <td>₹121,889                                      ...</td>\n",
       "    </tr>\n",
       "    <tr>\n",
       "      <th>4</th>\n",
       "      <td>4</td>\n",
       "      <td>Global Shopping\\n    \\n            \\n         ...</td>\n",
       "      <td>5% Off</td>\n",
       "      <td>₹118,800                                      ...</td>\n",
       "    </tr>\n",
       "    <tr>\n",
       "      <th>5</th>\n",
       "      <td>5</td>\n",
       "      <td>Lenovo Legion 5 10th Gen Intel Core i7-10750H ...</td>\n",
       "      <td>8% Off</td>\n",
       "      <td>₹120,000                                      ...</td>\n",
       "    </tr>\n",
       "    <tr>\n",
       "      <th>6</th>\n",
       "      <td>6</td>\n",
       "      <td>HP Pavilion Gaming 10th Gen Intel Core i7 Proc...</td>\n",
       "      <td>1% Off</td>\n",
       "      <td>₹97,800                                       ...</td>\n",
       "    </tr>\n",
       "    <tr>\n",
       "      <th>7</th>\n",
       "      <td>7</td>\n",
       "      <td>Dell Inspiron 3502 15.6\" (39.62 cms) HD Displa...</td>\n",
       "      <td>15% Off</td>\n",
       "      <td>₹99,000                                       ...</td>\n",
       "    </tr>\n",
       "    <tr>\n",
       "      <th>8</th>\n",
       "      <td>8</td>\n",
       "      <td>Dell Inspiron 5410 14.0\" FHD WVA Truelife Touc...</td>\n",
       "      <td>10% Off</td>\n",
       "      <td>₹95,800                                       ...</td>\n",
       "    </tr>\n",
       "  </tbody>\n",
       "</table>\n",
       "</div>"
      ],
      "text/plain": [
       "   Unnamed: 0                                       productname2  offers2  \\\n",
       "0           0  Dell Inspiron 5409 14.0quot (35.56cms)FHD WVA ...   8% Off   \n",
       "1           1  Dell XPS 9305 13.3\" FHD InfinityEdge Thin & Li...   1% Off   \n",
       "2           2  Dell Inspiron 15 G3 3500 Gaming Laptop (10th G...   6% Off   \n",
       "3           3  HP Pavilion Gaming(2021) 10th Gen Intel Core i...   3% Off   \n",
       "4           4  Global Shopping\\n    \\n            \\n         ...   5% Off   \n",
       "5           5  Lenovo Legion 5 10th Gen Intel Core i7-10750H ...   8% Off   \n",
       "6           6  HP Pavilion Gaming 10th Gen Intel Core i7 Proc...   1% Off   \n",
       "7           7  Dell Inspiron 3502 15.6\" (39.62 cms) HD Displa...  15% Off   \n",
       "8           8  Dell Inspiron 5410 14.0\" FHD WVA Truelife Touc...  10% Off   \n",
       "\n",
       "                                              price2  \n",
       "0  ₹148,800                                      ...  \n",
       "1  ₹150,000                                      ...  \n",
       "2  ₹120,689                                      ...  \n",
       "3  ₹121,889                                      ...  \n",
       "4  ₹118,800                                      ...  \n",
       "5  ₹120,000                                      ...  \n",
       "6  ₹97,800                                       ...  \n",
       "7  ₹99,000                                       ...  \n",
       "8  ₹95,800                                       ...  "
      ]
     },
     "execution_count": 95,
     "metadata": {},
     "output_type": "execute_result"
    }
   ],
   "source": [
    "data1=pd.read_csv(\"source2.csv\")\n",
    "data1"
   ]
  },
  {
   "cell_type": "code",
   "execution_count": 96,
   "id": "7c946305",
   "metadata": {},
   "outputs": [],
   "source": [
    "d2=laptop2['price2']"
   ]
  },
  {
   "cell_type": "code",
   "execution_count": 97,
   "id": "6dc4e744",
   "metadata": {},
   "outputs": [],
   "source": [
    "d3=laptop2['offers2']"
   ]
  },
  {
   "cell_type": "code",
   "execution_count": 98,
   "id": "ef1236fc",
   "metadata": {},
   "outputs": [
    {
     "name": "stdout",
     "output_type": "stream",
     "text": [
      "['148800', '150000', '120689', '121889', '118800', '120000', '97800', '99000', '95800']\n"
     ]
    }
   ],
   "source": [
    "temp=[]\n",
    "import re\n",
    "t=re.compile(r'[^\\d]+')\n",
    "for i in d2:\n",
    "    r=t.sub('',i)\n",
    "    temp.append(r)\n",
    "print(temp)"
   ]
  },
  {
   "cell_type": "code",
   "execution_count": 99,
   "id": "375a5ee2",
   "metadata": {},
   "outputs": [
    {
     "name": "stdout",
     "output_type": "stream",
     "text": [
      "['8', '1', '6', '3', '5', '8', '1', '15', '10']\n"
     ]
    }
   ],
   "source": [
    "temp2=[]\n",
    "import re\n",
    "t=re.compile(r'[^\\d]+')\n",
    "for i in d3:\n",
    "    r=t.sub('',i)\n",
    "    temp2.append(r)\n",
    "print(temp2)"
   ]
  },
  {
   "cell_type": "code",
   "execution_count": 100,
   "id": "0f9452b0",
   "metadata": {},
   "outputs": [
    {
     "data": {
      "text/html": [
       "<div>\n",
       "<style scoped>\n",
       "    .dataframe tbody tr th:only-of-type {\n",
       "        vertical-align: middle;\n",
       "    }\n",
       "\n",
       "    .dataframe tbody tr th {\n",
       "        vertical-align: top;\n",
       "    }\n",
       "\n",
       "    .dataframe thead th {\n",
       "        text-align: right;\n",
       "    }\n",
       "</style>\n",
       "<table border=\"1\" class=\"dataframe\">\n",
       "  <thead>\n",
       "    <tr style=\"text-align: right;\">\n",
       "      <th></th>\n",
       "      <th>productname2</th>\n",
       "      <th>offers2</th>\n",
       "      <th>price2</th>\n",
       "    </tr>\n",
       "  </thead>\n",
       "  <tbody>\n",
       "    <tr>\n",
       "      <th>0</th>\n",
       "      <td>Dell Inspiron 5409 14.0quot (35.56cms)FHD WVA ...</td>\n",
       "      <td>8</td>\n",
       "      <td>₹148,800                                      ...</td>\n",
       "    </tr>\n",
       "    <tr>\n",
       "      <th>1</th>\n",
       "      <td>Dell XPS 9305 13.3\" FHD InfinityEdge Thin &amp; Li...</td>\n",
       "      <td>1</td>\n",
       "      <td>₹150,000                                      ...</td>\n",
       "    </tr>\n",
       "    <tr>\n",
       "      <th>2</th>\n",
       "      <td>Dell Inspiron 15 G3 3500 Gaming Laptop (10th G...</td>\n",
       "      <td>6</td>\n",
       "      <td>₹120,689                                      ...</td>\n",
       "    </tr>\n",
       "    <tr>\n",
       "      <th>3</th>\n",
       "      <td>HP Pavilion Gaming(2021) 10th Gen Intel Core i...</td>\n",
       "      <td>3</td>\n",
       "      <td>₹121,889                                      ...</td>\n",
       "    </tr>\n",
       "    <tr>\n",
       "      <th>4</th>\n",
       "      <td>Global Shopping\\n    \\n            \\n         ...</td>\n",
       "      <td>5</td>\n",
       "      <td>₹118,800                                      ...</td>\n",
       "    </tr>\n",
       "    <tr>\n",
       "      <th>5</th>\n",
       "      <td>Lenovo Legion 5 10th Gen Intel Core i7-10750H ...</td>\n",
       "      <td>8</td>\n",
       "      <td>₹120,000                                      ...</td>\n",
       "    </tr>\n",
       "    <tr>\n",
       "      <th>6</th>\n",
       "      <td>HP Pavilion Gaming 10th Gen Intel Core i7 Proc...</td>\n",
       "      <td>1</td>\n",
       "      <td>₹97,800                                       ...</td>\n",
       "    </tr>\n",
       "    <tr>\n",
       "      <th>7</th>\n",
       "      <td>Dell Inspiron 3502 15.6\" (39.62 cms) HD Displa...</td>\n",
       "      <td>15</td>\n",
       "      <td>₹99,000                                       ...</td>\n",
       "    </tr>\n",
       "    <tr>\n",
       "      <th>8</th>\n",
       "      <td>Dell Inspiron 5410 14.0\" FHD WVA Truelife Touc...</td>\n",
       "      <td>10</td>\n",
       "      <td>₹95,800                                       ...</td>\n",
       "    </tr>\n",
       "  </tbody>\n",
       "</table>\n",
       "</div>"
      ],
      "text/plain": [
       "                                        productname2 offers2  \\\n",
       "0  Dell Inspiron 5409 14.0quot (35.56cms)FHD WVA ...       8   \n",
       "1  Dell XPS 9305 13.3\" FHD InfinityEdge Thin & Li...       1   \n",
       "2  Dell Inspiron 15 G3 3500 Gaming Laptop (10th G...       6   \n",
       "3  HP Pavilion Gaming(2021) 10th Gen Intel Core i...       3   \n",
       "4  Global Shopping\\n    \\n            \\n         ...       5   \n",
       "5  Lenovo Legion 5 10th Gen Intel Core i7-10750H ...       8   \n",
       "6  HP Pavilion Gaming 10th Gen Intel Core i7 Proc...       1   \n",
       "7  Dell Inspiron 3502 15.6\" (39.62 cms) HD Displa...      15   \n",
       "8  Dell Inspiron 5410 14.0\" FHD WVA Truelife Touc...      10   \n",
       "\n",
       "                                              price2  \n",
       "0  ₹148,800                                      ...  \n",
       "1  ₹150,000                                      ...  \n",
       "2  ₹120,689                                      ...  \n",
       "3  ₹121,889                                      ...  \n",
       "4  ₹118,800                                      ...  \n",
       "5  ₹120,000                                      ...  \n",
       "6  ₹97,800                                       ...  \n",
       "7  ₹99,000                                       ...  \n",
       "8  ₹95,800                                       ...  "
      ]
     },
     "execution_count": 100,
     "metadata": {},
     "output_type": "execute_result"
    }
   ],
   "source": [
    "laptop2['offers2']=temp2\n",
    "laptop2"
   ]
  },
  {
   "cell_type": "code",
   "execution_count": 101,
   "id": "b8538520",
   "metadata": {},
   "outputs": [
    {
     "data": {
      "text/html": [
       "<div>\n",
       "<style scoped>\n",
       "    .dataframe tbody tr th:only-of-type {\n",
       "        vertical-align: middle;\n",
       "    }\n",
       "\n",
       "    .dataframe tbody tr th {\n",
       "        vertical-align: top;\n",
       "    }\n",
       "\n",
       "    .dataframe thead th {\n",
       "        text-align: right;\n",
       "    }\n",
       "</style>\n",
       "<table border=\"1\" class=\"dataframe\">\n",
       "  <thead>\n",
       "    <tr style=\"text-align: right;\">\n",
       "      <th></th>\n",
       "      <th>productname2</th>\n",
       "      <th>offers2</th>\n",
       "      <th>price2</th>\n",
       "    </tr>\n",
       "  </thead>\n",
       "  <tbody>\n",
       "    <tr>\n",
       "      <th>0</th>\n",
       "      <td>Dell Inspiron 5409 14.0quot (35.56cms)FHD WVA ...</td>\n",
       "      <td>8</td>\n",
       "      <td>148800</td>\n",
       "    </tr>\n",
       "    <tr>\n",
       "      <th>1</th>\n",
       "      <td>Dell XPS 9305 13.3\" FHD InfinityEdge Thin &amp; Li...</td>\n",
       "      <td>1</td>\n",
       "      <td>150000</td>\n",
       "    </tr>\n",
       "    <tr>\n",
       "      <th>2</th>\n",
       "      <td>Dell Inspiron 15 G3 3500 Gaming Laptop (10th G...</td>\n",
       "      <td>6</td>\n",
       "      <td>120689</td>\n",
       "    </tr>\n",
       "    <tr>\n",
       "      <th>3</th>\n",
       "      <td>HP Pavilion Gaming(2021) 10th Gen Intel Core i...</td>\n",
       "      <td>3</td>\n",
       "      <td>121889</td>\n",
       "    </tr>\n",
       "    <tr>\n",
       "      <th>4</th>\n",
       "      <td>Global Shopping\\n    \\n            \\n         ...</td>\n",
       "      <td>5</td>\n",
       "      <td>118800</td>\n",
       "    </tr>\n",
       "    <tr>\n",
       "      <th>5</th>\n",
       "      <td>Lenovo Legion 5 10th Gen Intel Core i7-10750H ...</td>\n",
       "      <td>8</td>\n",
       "      <td>120000</td>\n",
       "    </tr>\n",
       "    <tr>\n",
       "      <th>6</th>\n",
       "      <td>HP Pavilion Gaming 10th Gen Intel Core i7 Proc...</td>\n",
       "      <td>1</td>\n",
       "      <td>97800</td>\n",
       "    </tr>\n",
       "    <tr>\n",
       "      <th>7</th>\n",
       "      <td>Dell Inspiron 3502 15.6\" (39.62 cms) HD Displa...</td>\n",
       "      <td>15</td>\n",
       "      <td>99000</td>\n",
       "    </tr>\n",
       "    <tr>\n",
       "      <th>8</th>\n",
       "      <td>Dell Inspiron 5410 14.0\" FHD WVA Truelife Touc...</td>\n",
       "      <td>10</td>\n",
       "      <td>95800</td>\n",
       "    </tr>\n",
       "  </tbody>\n",
       "</table>\n",
       "</div>"
      ],
      "text/plain": [
       "                                        productname2 offers2  price2\n",
       "0  Dell Inspiron 5409 14.0quot (35.56cms)FHD WVA ...       8  148800\n",
       "1  Dell XPS 9305 13.3\" FHD InfinityEdge Thin & Li...       1  150000\n",
       "2  Dell Inspiron 15 G3 3500 Gaming Laptop (10th G...       6  120689\n",
       "3  HP Pavilion Gaming(2021) 10th Gen Intel Core i...       3  121889\n",
       "4  Global Shopping\\n    \\n            \\n         ...       5  118800\n",
       "5  Lenovo Legion 5 10th Gen Intel Core i7-10750H ...       8  120000\n",
       "6  HP Pavilion Gaming 10th Gen Intel Core i7 Proc...       1   97800\n",
       "7  Dell Inspiron 3502 15.6\" (39.62 cms) HD Displa...      15   99000\n",
       "8  Dell Inspiron 5410 14.0\" FHD WVA Truelife Touc...      10   95800"
      ]
     },
     "execution_count": 101,
     "metadata": {},
     "output_type": "execute_result"
    }
   ],
   "source": [
    "laptop2['price2']=temp\n",
    "laptop2"
   ]
  },
  {
   "cell_type": "code",
   "execution_count": 102,
   "id": "92b44145",
   "metadata": {},
   "outputs": [
    {
     "name": "stderr",
     "output_type": "stream",
     "text": [
      "C:\\Users\\SUBASH~1\\AppData\\Local\\Temp/ipykernel_1192/3121708102.py:1: FutureWarning: Dropping of nuisance columns in DataFrame reductions (with 'numeric_only=None') is deprecated; in a future version this will raise TypeError.  Select only valid columns before calling the reduction.\n",
      "  laptop2.mean()\n"
     ]
    },
    {
     "data": {
      "text/plain": [
       "offers2    9.070646e+09\n",
       "price2     1.653335e+49\n",
       "dtype: float64"
      ]
     },
     "execution_count": 102,
     "metadata": {},
     "output_type": "execute_result"
    }
   ],
   "source": [
    "laptop2.mean()"
   ]
  },
  {
   "cell_type": "code",
   "execution_count": 103,
   "id": "a463431b",
   "metadata": {},
   "outputs": [
    {
     "name": "stderr",
     "output_type": "stream",
     "text": [
      "C:\\Users\\SUBASH~1\\AppData\\Local\\Temp/ipykernel_1192/1694071697.py:4: UserWarning: Matplotlib is currently using module://matplotlib_inline.backend_inline, which is a non-GUI backend, so cannot show the figure.\n",
      "  fig.show()\n"
     ]
    },
    {
     "data": {
      "image/png": "[encoded data removed]",
      "text/plain": [
       "<Figure size 432x288 with 1 Axes>"
      ]
     },
     "metadata": {
      "needs_background": "light"
     },
     "output_type": "display_data"
    },
    {
     "data": {
      "text/plain": [
       "<Figure size 432x288 with 0 Axes>"
      ]
     },
     "metadata": {},
     "output_type": "display_data"
    }
   ],
   "source": [
    "laptop2.plot(kind='scatter',x='productname2',y='price2')\n",
    "fig=plt.figure()\n",
    "fig.savefig(\"figure\",dpi=150)\n",
    "fig.show()"
   ]
  },
  {
   "cell_type": "code",
   "execution_count": 104,
   "id": "90c52534",
   "metadata": {},
   "outputs": [
    {
     "data": {
      "text/plain": [
       "<Figure size 432x288 with 0 Axes>"
      ]
     },
     "metadata": {},
     "output_type": "display_data"
    }
   ],
   "source": [
    "plt.savefig(\"figure\",dpi=150)\n",
    "plt.show()"
   ]
  },
  {
   "cell_type": "code",
   "execution_count": 105,
   "id": "a630dc78",
   "metadata": {},
   "outputs": [
    {
     "data": {
      "text/html": [
       "<div>\n",
       "<style scoped>\n",
       "    .dataframe tbody tr th:only-of-type {\n",
       "        vertical-align: middle;\n",
       "    }\n",
       "\n",
       "    .dataframe tbody tr th {\n",
       "        vertical-align: top;\n",
       "    }\n",
       "\n",
       "    .dataframe thead th {\n",
       "        text-align: right;\n",
       "    }\n",
       "</style>\n",
       "<table border=\"1\" class=\"dataframe\">\n",
       "  <thead>\n",
       "    <tr style=\"text-align: right;\">\n",
       "      <th></th>\n",
       "      <th>Unnamed: 0</th>\n",
       "      <th>productname1</th>\n",
       "      <th>ratings1</th>\n",
       "      <th>price1</th>\n",
       "      <th>offers1</th>\n",
       "      <th>Unnamed: 0</th>\n",
       "      <th>productname2</th>\n",
       "      <th>offers2</th>\n",
       "      <th>price2</th>\n",
       "    </tr>\n",
       "  </thead>\n",
       "  <tbody>\n",
       "    <tr>\n",
       "      <th>0</th>\n",
       "      <td>0</td>\n",
       "      <td>HP Chromebook MediaTek Kompanio 500 - (4 GB/64...</td>\n",
       "      <td>3.8</td>\n",
       "      <td>₹22,990</td>\n",
       "      <td>7% off</td>\n",
       "      <td>0</td>\n",
       "      <td>Dell Inspiron 5409 14.0quot (35.56cms)FHD WVA ...</td>\n",
       "      <td>8% Off</td>\n",
       "      <td>₹148,800                                      ...</td>\n",
       "    </tr>\n",
       "    <tr>\n",
       "      <th>1</th>\n",
       "      <td>1</td>\n",
       "      <td>HP Chromebook MediaTek Kompanio 500 - (4 GB/64...</td>\n",
       "      <td>3.8</td>\n",
       "      <td>₹22,490</td>\n",
       "      <td>9% off</td>\n",
       "      <td>1</td>\n",
       "      <td>Dell XPS 9305 13.3\" FHD InfinityEdge Thin &amp; Li...</td>\n",
       "      <td>1% Off</td>\n",
       "      <td>₹150,000                                      ...</td>\n",
       "    </tr>\n",
       "    <tr>\n",
       "      <th>2</th>\n",
       "      <td>2</td>\n",
       "      <td>ASUS VivoBook 15 (2021) Core i3 10th Gen - (8 ...</td>\n",
       "      <td>4.4</td>\n",
       "      <td>₹41,990</td>\n",
       "      <td>17% off</td>\n",
       "      <td>2</td>\n",
       "      <td>Dell Inspiron 15 G3 3500 Gaming Laptop (10th G...</td>\n",
       "      <td>6% Off</td>\n",
       "      <td>₹120,689                                      ...</td>\n",
       "    </tr>\n",
       "    <tr>\n",
       "      <th>3</th>\n",
       "      <td>3</td>\n",
       "      <td>HP Core i3 11th Gen - (8 GB/512 GB SSD/Windows...</td>\n",
       "      <td>4.2</td>\n",
       "      <td>₹41,990</td>\n",
       "      <td>15% off</td>\n",
       "      <td>3</td>\n",
       "      <td>HP Pavilion Gaming(2021) 10th Gen Intel Core i...</td>\n",
       "      <td>3% Off</td>\n",
       "      <td>₹121,889                                      ...</td>\n",
       "    </tr>\n",
       "    <tr>\n",
       "      <th>4</th>\n",
       "      <td>4</td>\n",
       "      <td>RedmiBook 15 e-Learning Edition Core i3 11th G...</td>\n",
       "      <td>4.3</td>\n",
       "      <td>₹42,999</td>\n",
       "      <td>23% off</td>\n",
       "      <td>4</td>\n",
       "      <td>Global Shopping\\n    \\n            \\n         ...</td>\n",
       "      <td>5% Off</td>\n",
       "      <td>₹118,800                                      ...</td>\n",
       "    </tr>\n",
       "    <tr>\n",
       "      <th>5</th>\n",
       "      <td>5</td>\n",
       "      <td>HP Ryzen 3 Dual Core 3250U - (8 GB/256 GB SSD/...</td>\n",
       "      <td>4.3</td>\n",
       "      <td>₹39,990</td>\n",
       "      <td>15% off</td>\n",
       "      <td>5</td>\n",
       "      <td>Lenovo Legion 5 10th Gen Intel Core i7-10750H ...</td>\n",
       "      <td>8% Off</td>\n",
       "      <td>₹120,000                                      ...</td>\n",
       "    </tr>\n",
       "    <tr>\n",
       "      <th>6</th>\n",
       "      <td>6</td>\n",
       "      <td>HP Core i3 10th Gen - (8 GB/512 GB SSD/Windows...</td>\n",
       "      <td>4.3</td>\n",
       "      <td>₹41,990</td>\n",
       "      <td>16% off</td>\n",
       "      <td>6</td>\n",
       "      <td>HP Pavilion Gaming 10th Gen Intel Core i7 Proc...</td>\n",
       "      <td>1% Off</td>\n",
       "      <td>₹97,800                                       ...</td>\n",
       "    </tr>\n",
       "    <tr>\n",
       "      <th>7</th>\n",
       "      <td>7</td>\n",
       "      <td>HP Chromebook MediaTek Kompanio 500 - (4 GB/64...</td>\n",
       "      <td>3.8</td>\n",
       "      <td>₹22,490</td>\n",
       "      <td>9% off</td>\n",
       "      <td>7</td>\n",
       "      <td>Dell Inspiron 3502 15.6\" (39.62 cms) HD Displa...</td>\n",
       "      <td>15% Off</td>\n",
       "      <td>₹99,000                                       ...</td>\n",
       "    </tr>\n",
       "    <tr>\n",
       "      <th>8</th>\n",
       "      <td>8</td>\n",
       "      <td>ASUS Core i3 10th Gen - (4 GB + 32 GB Optane/5...</td>\n",
       "      <td>4.3</td>\n",
       "      <td>₹39,990</td>\n",
       "      <td>20% off</td>\n",
       "      <td>8</td>\n",
       "      <td>Dell Inspiron 5410 14.0\" FHD WVA Truelife Touc...</td>\n",
       "      <td>10% Off</td>\n",
       "      <td>₹95,800                                       ...</td>\n",
       "    </tr>\n",
       "  </tbody>\n",
       "</table>\n",
       "</div>"
      ],
      "text/plain": [
       "   Unnamed: 0                                       productname1  ratings1  \\\n",
       "0           0  HP Chromebook MediaTek Kompanio 500 - (4 GB/64...       3.8   \n",
       "1           1  HP Chromebook MediaTek Kompanio 500 - (4 GB/64...       3.8   \n",
       "2           2  ASUS VivoBook 15 (2021) Core i3 10th Gen - (8 ...       4.4   \n",
       "3           3  HP Core i3 11th Gen - (8 GB/512 GB SSD/Windows...       4.2   \n",
       "4           4  RedmiBook 15 e-Learning Edition Core i3 11th G...       4.3   \n",
       "5           5  HP Ryzen 3 Dual Core 3250U - (8 GB/256 GB SSD/...       4.3   \n",
       "6           6  HP Core i3 10th Gen - (8 GB/512 GB SSD/Windows...       4.3   \n",
       "7           7  HP Chromebook MediaTek Kompanio 500 - (4 GB/64...       3.8   \n",
       "8           8  ASUS Core i3 10th Gen - (4 GB + 32 GB Optane/5...       4.3   \n",
       "\n",
       "    price1  offers1  Unnamed: 0  \\\n",
       "0  ₹22,990   7% off           0   \n",
       "1  ₹22,490   9% off           1   \n",
       "2  ₹41,990  17% off           2   \n",
       "3  ₹41,990  15% off           3   \n",
       "4  ₹42,999  23% off           4   \n",
       "5  ₹39,990  15% off           5   \n",
       "6  ₹41,990  16% off           6   \n",
       "7  ₹22,490   9% off           7   \n",
       "8  ₹39,990  20% off           8   \n",
       "\n",
       "                                        productname2  offers2  \\\n",
       "0  Dell Inspiron 5409 14.0quot (35.56cms)FHD WVA ...   8% Off   \n",
       "1  Dell XPS 9305 13.3\" FHD InfinityEdge Thin & Li...   1% Off   \n",
       "2  Dell Inspiron 15 G3 3500 Gaming Laptop (10th G...   6% Off   \n",
       "3  HP Pavilion Gaming(2021) 10th Gen Intel Core i...   3% Off   \n",
       "4  Global Shopping\\n    \\n            \\n         ...   5% Off   \n",
       "5  Lenovo Legion 5 10th Gen Intel Core i7-10750H ...   8% Off   \n",
       "6  HP Pavilion Gaming 10th Gen Intel Core i7 Proc...   1% Off   \n",
       "7  Dell Inspiron 3502 15.6\" (39.62 cms) HD Displa...  15% Off   \n",
       "8  Dell Inspiron 5410 14.0\" FHD WVA Truelife Touc...  10% Off   \n",
       "\n",
       "                                              price2  \n",
       "0  ₹148,800                                      ...  \n",
       "1  ₹150,000                                      ...  \n",
       "2  ₹120,689                                      ...  \n",
       "3  ₹121,889                                      ...  \n",
       "4  ₹118,800                                      ...  \n",
       "5  ₹120,000                                      ...  \n",
       "6  ₹97,800                                       ...  \n",
       "7  ₹99,000                                       ...  \n",
       "8  ₹95,800                                       ...  "
      ]
     },
     "metadata": {},
     "output_type": "display_data"
    }
   ],
   "source": [
    "#Data Wrangling\n",
    "result=pd.concat([data,data1],axis=1,join='inner')                          #Comparing two links\n",
    "display(result)"
   ]
  },
  {
   "cell_type": "code",
   "execution_count": 106,
   "id": "c998f0e1",
   "metadata": {},
   "outputs": [],
   "source": [
    "result.to_csv(\"source3.csv\")"
   ]
  },
  {
   "cell_type": "code",
   "execution_count": 107,
   "id": "4acf6281",
   "metadata": {},
   "outputs": [
    {
     "data": {
      "text/html": [
       "<div>\n",
       "<style scoped>\n",
       "    .dataframe tbody tr th:only-of-type {\n",
       "        vertical-align: middle;\n",
       "    }\n",
       "\n",
       "    .dataframe tbody tr th {\n",
       "        vertical-align: top;\n",
       "    }\n",
       "\n",
       "    .dataframe thead th {\n",
       "        text-align: right;\n",
       "    }\n",
       "</style>\n",
       "<table border=\"1\" class=\"dataframe\">\n",
       "  <thead>\n",
       "    <tr style=\"text-align: right;\">\n",
       "      <th></th>\n",
       "      <th>Unnamed: 0</th>\n",
       "      <th>Unnamed: 0.1</th>\n",
       "      <th>productname1</th>\n",
       "      <th>ratings1</th>\n",
       "      <th>price1</th>\n",
       "      <th>offers1</th>\n",
       "      <th>Unnamed: 0.2</th>\n",
       "      <th>productname2</th>\n",
       "      <th>offers2</th>\n",
       "      <th>price2</th>\n",
       "    </tr>\n",
       "  </thead>\n",
       "  <tbody>\n",
       "    <tr>\n",
       "      <th>0</th>\n",
       "      <td>0</td>\n",
       "      <td>0</td>\n",
       "      <td>HP Chromebook MediaTek Kompanio 500 - (4 GB/64...</td>\n",
       "      <td>3.8</td>\n",
       "      <td>₹22,990</td>\n",
       "      <td>7% off</td>\n",
       "      <td>0</td>\n",
       "      <td>Dell Inspiron 5409 14.0quot (35.56cms)FHD WVA ...</td>\n",
       "      <td>8% Off</td>\n",
       "      <td>₹148,800                                      ...</td>\n",
       "    </tr>\n",
       "    <tr>\n",
       "      <th>1</th>\n",
       "      <td>1</td>\n",
       "      <td>1</td>\n",
       "      <td>HP Chromebook MediaTek Kompanio 500 - (4 GB/64...</td>\n",
       "      <td>3.8</td>\n",
       "      <td>₹22,490</td>\n",
       "      <td>9% off</td>\n",
       "      <td>1</td>\n",
       "      <td>Dell XPS 9305 13.3\" FHD InfinityEdge Thin &amp; Li...</td>\n",
       "      <td>1% Off</td>\n",
       "      <td>₹150,000                                      ...</td>\n",
       "    </tr>\n",
       "    <tr>\n",
       "      <th>2</th>\n",
       "      <td>2</td>\n",
       "      <td>2</td>\n",
       "      <td>ASUS VivoBook 15 (2021) Core i3 10th Gen - (8 ...</td>\n",
       "      <td>4.4</td>\n",
       "      <td>₹41,990</td>\n",
       "      <td>17% off</td>\n",
       "      <td>2</td>\n",
       "      <td>Dell Inspiron 15 G3 3500 Gaming Laptop (10th G...</td>\n",
       "      <td>6% Off</td>\n",
       "      <td>₹120,689                                      ...</td>\n",
       "    </tr>\n",
       "    <tr>\n",
       "      <th>3</th>\n",
       "      <td>3</td>\n",
       "      <td>3</td>\n",
       "      <td>HP Core i3 11th Gen - (8 GB/512 GB SSD/Windows...</td>\n",
       "      <td>4.2</td>\n",
       "      <td>₹41,990</td>\n",
       "      <td>15% off</td>\n",
       "      <td>3</td>\n",
       "      <td>HP Pavilion Gaming(2021) 10th Gen Intel Core i...</td>\n",
       "      <td>3% Off</td>\n",
       "      <td>₹121,889                                      ...</td>\n",
       "    </tr>\n",
       "    <tr>\n",
       "      <th>4</th>\n",
       "      <td>4</td>\n",
       "      <td>4</td>\n",
       "      <td>RedmiBook 15 e-Learning Edition Core i3 11th G...</td>\n",
       "      <td>4.3</td>\n",
       "      <td>₹42,999</td>\n",
       "      <td>23% off</td>\n",
       "      <td>4</td>\n",
       "      <td>Global Shopping\\n    \\n            \\n         ...</td>\n",
       "      <td>5% Off</td>\n",
       "      <td>₹118,800                                      ...</td>\n",
       "    </tr>\n",
       "    <tr>\n",
       "      <th>5</th>\n",
       "      <td>5</td>\n",
       "      <td>5</td>\n",
       "      <td>HP Ryzen 3 Dual Core 3250U - (8 GB/256 GB SSD/...</td>\n",
       "      <td>4.3</td>\n",
       "      <td>₹39,990</td>\n",
       "      <td>15% off</td>\n",
       "      <td>5</td>\n",
       "      <td>Lenovo Legion 5 10th Gen Intel Core i7-10750H ...</td>\n",
       "      <td>8% Off</td>\n",
       "      <td>₹120,000                                      ...</td>\n",
       "    </tr>\n",
       "    <tr>\n",
       "      <th>6</th>\n",
       "      <td>6</td>\n",
       "      <td>6</td>\n",
       "      <td>HP Core i3 10th Gen - (8 GB/512 GB SSD/Windows...</td>\n",
       "      <td>4.3</td>\n",
       "      <td>₹41,990</td>\n",
       "      <td>16% off</td>\n",
       "      <td>6</td>\n",
       "      <td>HP Pavilion Gaming 10th Gen Intel Core i7 Proc...</td>\n",
       "      <td>1% Off</td>\n",
       "      <td>₹97,800                                       ...</td>\n",
       "    </tr>\n",
       "    <tr>\n",
       "      <th>7</th>\n",
       "      <td>7</td>\n",
       "      <td>7</td>\n",
       "      <td>HP Chromebook MediaTek Kompanio 500 - (4 GB/64...</td>\n",
       "      <td>3.8</td>\n",
       "      <td>₹22,490</td>\n",
       "      <td>9% off</td>\n",
       "      <td>7</td>\n",
       "      <td>Dell Inspiron 3502 15.6\" (39.62 cms) HD Displa...</td>\n",
       "      <td>15% Off</td>\n",
       "      <td>₹99,000                                       ...</td>\n",
       "    </tr>\n",
       "    <tr>\n",
       "      <th>8</th>\n",
       "      <td>8</td>\n",
       "      <td>8</td>\n",
       "      <td>ASUS Core i3 10th Gen - (4 GB + 32 GB Optane/5...</td>\n",
       "      <td>4.3</td>\n",
       "      <td>₹39,990</td>\n",
       "      <td>20% off</td>\n",
       "      <td>8</td>\n",
       "      <td>Dell Inspiron 5410 14.0\" FHD WVA Truelife Touc...</td>\n",
       "      <td>10% Off</td>\n",
       "      <td>₹95,800                                       ...</td>\n",
       "    </tr>\n",
       "  </tbody>\n",
       "</table>\n",
       "</div>"
      ],
      "text/plain": [
       "   Unnamed: 0  Unnamed: 0.1  \\\n",
       "0           0             0   \n",
       "1           1             1   \n",
       "2           2             2   \n",
       "3           3             3   \n",
       "4           4             4   \n",
       "5           5             5   \n",
       "6           6             6   \n",
       "7           7             7   \n",
       "8           8             8   \n",
       "\n",
       "                                        productname1  ratings1   price1  \\\n",
       "0  HP Chromebook MediaTek Kompanio 500 - (4 GB/64...       3.8  ₹22,990   \n",
       "1  HP Chromebook MediaTek Kompanio 500 - (4 GB/64...       3.8  ₹22,490   \n",
       "2  ASUS VivoBook 15 (2021) Core i3 10th Gen - (8 ...       4.4  ₹41,990   \n",
       "3  HP Core i3 11th Gen - (8 GB/512 GB SSD/Windows...       4.2  ₹41,990   \n",
       "4  RedmiBook 15 e-Learning Edition Core i3 11th G...       4.3  ₹42,999   \n",
       "5  HP Ryzen 3 Dual Core 3250U - (8 GB/256 GB SSD/...       4.3  ₹39,990   \n",
       "6  HP Core i3 10th Gen - (8 GB/512 GB SSD/Windows...       4.3  ₹41,990   \n",
       "7  HP Chromebook MediaTek Kompanio 500 - (4 GB/64...       3.8  ₹22,490   \n",
       "8  ASUS Core i3 10th Gen - (4 GB + 32 GB Optane/5...       4.3  ₹39,990   \n",
       "\n",
       "   offers1  Unnamed: 0.2                                       productname2  \\\n",
       "0   7% off             0  Dell Inspiron 5409 14.0quot (35.56cms)FHD WVA ...   \n",
       "1   9% off             1  Dell XPS 9305 13.3\" FHD InfinityEdge Thin & Li...   \n",
       "2  17% off             2  Dell Inspiron 15 G3 3500 Gaming Laptop (10th G...   \n",
       "3  15% off             3  HP Pavilion Gaming(2021) 10th Gen Intel Core i...   \n",
       "4  23% off             4  Global Shopping\\n    \\n            \\n         ...   \n",
       "5  15% off             5  Lenovo Legion 5 10th Gen Intel Core i7-10750H ...   \n",
       "6  16% off             6  HP Pavilion Gaming 10th Gen Intel Core i7 Proc...   \n",
       "7   9% off             7  Dell Inspiron 3502 15.6\" (39.62 cms) HD Displa...   \n",
       "8  20% off             8  Dell Inspiron 5410 14.0\" FHD WVA Truelife Touc...   \n",
       "\n",
       "   offers2                                             price2  \n",
       "0   8% Off  ₹148,800                                      ...  \n",
       "1   1% Off  ₹150,000                                      ...  \n",
       "2   6% Off  ₹120,689                                      ...  \n",
       "3   3% Off  ₹121,889                                      ...  \n",
       "4   5% Off  ₹118,800                                      ...  \n",
       "5   8% Off  ₹120,000                                      ...  \n",
       "6   1% Off  ₹97,800                                       ...  \n",
       "7  15% Off  ₹99,000                                       ...  \n",
       "8  10% Off  ₹95,800                                       ...  "
      ]
     },
     "execution_count": 107,
     "metadata": {},
     "output_type": "execute_result"
    }
   ],
   "source": [
    "data3=pd.read_csv(\"source3.csv\")\n",
    "data3"
   ]
  },
  {
   "cell_type": "code",
   "execution_count": 108,
   "id": "f963a5bb",
   "metadata": {},
   "outputs": [
    {
     "data": {
      "text/plain": [
       "<AxesSubplot:xlabel='price1', ylabel='offers2'>"
      ]
     },
     "execution_count": 108,
     "metadata": {},
     "output_type": "execute_result"
    },
    {
     "data": {
      "image/png": "[encoded data removed]",
      "text/plain": [
       "<Figure size 432x288 with 1 Axes>"
      ]
     },
     "metadata": {
      "needs_background": "light"
     },
     "output_type": "display_data"
    }
   ],
   "source": [
    "result.plot(kind='scatter',x='price1',y='offers2')"
   ]
  },
  {
   "cell_type": "code",
   "execution_count": 109,
   "id": "3ecc77b8",
   "metadata": {},
   "outputs": [
    {
     "data": {
      "text/plain": [
       "<Figure size 432x288 with 0 Axes>"
      ]
     },
     "metadata": {},
     "output_type": "display_data"
    }
   ],
   "source": [
    "plt.savefig(\"sample.png\")"
   ]
  },
  {
   "cell_type": "code",
   "execution_count": 110,
   "id": "951dbe11",
   "metadata": {},
   "outputs": [
    {
     "data": {
      "text/plain": [
       "<AxesSubplot:xlabel='price1', ylabel='price2'>"
      ]
     },
     "execution_count": 110,
     "metadata": {},
     "output_type": "execute_result"
    },
    {
     "data": {
      "image/png": "[encoded data removed]",
      "text/plain": [
       "<Figure size 432x288 with 1 Axes>"
      ]
     },
     "metadata": {
      "needs_background": "light"
     },
     "output_type": "display_data"
    }
   ],
   "source": [
    "result.plot(kind='scatter',x='price1',y='price2')"
   ]
  },
  {
   "cell_type": "code",
   "execution_count": 113,
   "id": "869d5c33",
   "metadata": {},
   "outputs": [
    {
     "data": {
      "text/plain": [
       "<AxesSubplot:xlabel='ratings1', ylabel='price1'>"
      ]
     },
     "execution_count": 113,
     "metadata": {},
     "output_type": "execute_result"
    },
    {
     "data": {
      "image/png": "[encoded data removed]",
      "text/plain": [
       "<Figure size 432x288 with 1 Axes>"
      ]
     },
     "metadata": {
      "needs_background": "light"
     },
     "output_type": "display_data"
    }
   ],
   "source": [
    "result.plot(kind='scatter',x='ratings1',y=\"price1\")"
   ]
  },
  {
   "cell_type": "code",
   "execution_count": 114,
   "id": "b8ec3a1d",
   "metadata": {},
   "outputs": [
    {
     "data": {
      "text/plain": [
       "<AxesSubplot:xlabel='productname2', ylabel='offers2'>"
      ]
     },
     "execution_count": 114,
     "metadata": {},
     "output_type": "execute_result"
    },
    {
     "data": {
      "image/png": "[encoded data removed]",
      "text/plain": [
       "<Figure size 432x288 with 1 Axes>"
      ]
     },
     "metadata": {
      "needs_background": "light"
     },
     "output_type": "display_data"
    }
   ],
   "source": [
    "result.plot(kind=\"scatter\",x=\"productname2\",y=\"offers2\")"
   ]
  },
  {
   "cell_type": "code",
   "execution_count": null,
   "id": "28e83b8c",
   "metadata": {},
   "outputs": [],
   "source": [
    "\n"
   ]
  },
  {
   "cell_type": "code",
   "execution_count": null,
   "id": "a8975f29",
   "metadata": {},
   "outputs": [],
   "source": []
  },
  {
   "cell_type": "code",
   "execution_count": null,
   "id": "eec8979f",
   "metadata": {},
   "outputs": [],
   "source": []
  },
  {
   "cell_type": "code",
   "execution_count": null,
   "id": "eebe1e2b",
   "metadata": {},
   "outputs": [],
   "source": []
  }
 ],
 "metadata": {
  "kernelspec": {
   "display_name": "Python 3 (ipykernel)",
   "language": "python",
   "name": "python3"
  },
  "language_info": {
   "codemirror_mode": {
    "name": "ipython",
    "version": 3
   },
   "file_extension": ".py",
   "mimetype": "text/x-python",
   "name": "python",
   "nbconvert_exporter": "python",
   "pygments_lexer": "ipython3",
   "version": "3.9.7"
  }
 },
 "nbformat": 4,
 "nbformat_minor": 5
}
